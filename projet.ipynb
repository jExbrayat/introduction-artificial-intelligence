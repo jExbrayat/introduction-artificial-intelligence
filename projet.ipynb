{
 "cells": [
  {
   "cell_type": "markdown",
   "metadata": {},
   "source": [
    "# Imports"
   ]
  },
  {
   "cell_type": "code",
   "execution_count": 2,
   "metadata": {},
   "outputs": [],
   "source": [
    "import matplotlib.pyplot as plt\n",
    "import numpy as np\n",
    "import pandas as pd\n",
    "import pyreadr\n",
    "import torch\n",
    "import torch.nn as nn\n",
    "import torch.optim as optim\n",
    "from scipy.optimize import minimize"
   ]
  },
  {
   "cell_type": "markdown",
   "metadata": {},
   "source": [
    "## Convert data files to csv"
   ]
  },
  {
   "cell_type": "markdown",
   "metadata": {},
   "source": [
    "### Decathlon"
   ]
  },
  {
   "cell_type": "code",
   "execution_count": 3,
   "metadata": {},
   "outputs": [
    {
     "data": {
      "text/plain": [
       "OrderedDict([('X',\n",
       "                            100m  Long.jump  Shot.put  High.jump   400m  110m.hurdle  \\\n",
       "              rownames                                                                 \n",
       "              SEBRLE       11.04       7.58     14.83       2.07  49.81        14.69   \n",
       "              CLAY         10.76       7.40     14.26       1.86  49.37        14.05   \n",
       "              KARPOV       11.02       7.30     14.77       2.04  48.37        14.09   \n",
       "              BERNARD      11.02       7.23     14.25       1.92  48.93        14.99   \n",
       "              YURKOV       11.34       7.09     15.19       2.10  50.42        15.31   \n",
       "              WARNERS      11.11       7.60     14.31       1.98  48.68        14.23   \n",
       "              ZSIVOCZKY    11.13       7.30     13.48       2.01  48.62        14.17   \n",
       "              McMULLEN     10.83       7.31     13.76       2.13  49.91        14.38   \n",
       "              MARTINEAU    11.64       6.81     14.57       1.95  50.14        14.93   \n",
       "              HERNU        11.37       7.56     14.41       1.86  51.10        15.06   \n",
       "              BARRAS       11.33       6.97     14.09       1.95  49.48        14.48   \n",
       "              NOOL         11.33       7.27     12.68       1.98  49.20        15.29   \n",
       "              BOURGUIGNON  11.36       6.80     13.46       1.86  51.16        15.67   \n",
       "              Sebrle       10.85       7.84     16.36       2.12  48.36        14.05   \n",
       "              Clay         10.44       7.96     15.23       2.06  49.19        14.13   \n",
       "              Karpov       10.50       7.81     15.93       2.09  46.81        13.97   \n",
       "              Macey        10.89       7.47     15.73       2.15  48.97        14.56   \n",
       "              Warners      10.62       7.74     14.48       1.97  47.97        14.01   \n",
       "              Zsivoczky    10.91       7.14     15.31       2.12  49.40        14.95   \n",
       "              Hernu        10.97       7.19     14.65       2.03  48.73        14.25   \n",
       "              Nool         10.80       7.53     14.26       1.88  48.81        14.80   \n",
       "              Bernard      10.69       7.48     14.80       2.12  49.13        14.17   \n",
       "              Schwarzl     10.98       7.49     14.01       1.94  49.76        14.25   \n",
       "              Pogorelov    10.95       7.31     15.10       2.06  50.79        14.21   \n",
       "              Schoenbeck   10.90       7.30     14.77       1.88  50.30        14.34   \n",
       "              Barras       11.14       6.99     14.91       1.94  49.41        14.37   \n",
       "              Smith        10.85       6.81     15.24       1.91  49.27        14.01   \n",
       "              Averyanov    10.55       7.34     14.44       1.94  49.72        14.39   \n",
       "              Ojaniemi     10.68       7.50     14.97       1.94  49.12        15.01   \n",
       "              Smirnov      10.89       7.07     13.88       1.94  49.11        14.77   \n",
       "              Qi           11.06       7.34     13.55       1.97  49.65        14.78   \n",
       "              Drews        10.87       7.38     13.07       1.88  48.51        14.01   \n",
       "              Parkhomenko  11.14       6.61     15.69       2.03  51.04        14.88   \n",
       "              Terek        10.92       6.94     15.15       1.94  49.56        15.12   \n",
       "              Gomez        11.08       7.26     14.57       1.85  48.61        14.41   \n",
       "              Turi         11.08       6.91     13.62       2.03  51.67        14.26   \n",
       "              Lorenzo      11.10       7.03     13.22       1.85  49.34        15.38   \n",
       "              Karlivans    11.33       7.26     13.30       1.97  50.54        14.98   \n",
       "              Korkizoglou  10.86       7.07     14.81       1.94  51.16        14.96   \n",
       "              Uldal        11.23       6.99     13.53       1.85  50.95        15.09   \n",
       "              Casarsa      11.36       6.68     14.92       1.94  53.20        15.39   \n",
       "              \n",
       "                           Discus  Pole.vault  Javeline   1500m  \n",
       "              rownames                                           \n",
       "              SEBRLE        43.75        5.02     63.19  291.70  \n",
       "              CLAY          50.72        4.92     60.15  301.50  \n",
       "              KARPOV        48.95        4.92     50.31  300.20  \n",
       "              BERNARD       40.87        5.32     62.77  280.10  \n",
       "              YURKOV        46.26        4.72     63.44  276.40  \n",
       "              WARNERS       41.10        4.92     51.77  278.10  \n",
       "              ZSIVOCZKY     45.67        4.42     55.37  268.00  \n",
       "              McMULLEN      44.41        4.42     56.37  285.10  \n",
       "              MARTINEAU     47.60        4.92     52.33  262.10  \n",
       "              HERNU         44.99        4.82     57.19  285.10  \n",
       "              BARRAS        42.10        4.72     55.40  282.00  \n",
       "              NOOL          37.92        4.62     57.44  266.60  \n",
       "              BOURGUIGNON   40.49        5.02     54.68  291.70  \n",
       "              Sebrle        48.72        5.00     70.52  280.01  \n",
       "              Clay          50.11        4.90     69.71  282.00  \n",
       "              Karpov        51.65        4.60     55.54  278.11  \n",
       "              Macey         48.34        4.40     58.46  265.42  \n",
       "              Warners       43.73        4.90     55.39  278.05  \n",
       "              Zsivoczky     45.62        4.70     63.45  269.54  \n",
       "              Hernu         44.72        4.80     57.76  264.35  \n",
       "              Nool          42.05        5.40     61.33  276.33  \n",
       "              Bernard       44.75        4.40     55.27  276.31  \n",
       "              Schwarzl      42.43        5.10     56.32  273.56  \n",
       "              Pogorelov     44.60        5.00     53.45  287.63  \n",
       "              Schoenbeck    44.41        5.00     60.89  278.82  \n",
       "              Barras        44.83        4.60     64.55  267.09  \n",
       "              Smith         49.02        4.20     61.52  272.74  \n",
       "              Averyanov     39.88        4.80     54.51  271.02  \n",
       "              Ojaniemi      40.35        4.60     59.26  275.71  \n",
       "              Smirnov       42.47        4.70     60.88  263.31  \n",
       "              Qi            45.13        4.50     60.79  272.63  \n",
       "              Drews         40.11        5.00     51.53  274.21  \n",
       "              Parkhomenko   41.90        4.80     65.82  277.94  \n",
       "              Terek         45.62        5.30     50.62  290.36  \n",
       "              Gomez         40.95        4.40     60.71  269.70  \n",
       "              Turi          39.83        4.80     59.34  290.01  \n",
       "              Lorenzo       40.22        4.50     58.36  263.08  \n",
       "              Karlivans     43.34        4.50     52.92  278.67  \n",
       "              Korkizoglou   46.07        4.70     53.05  317.00  \n",
       "              Uldal         43.01        4.50     60.00  281.70  \n",
       "              Casarsa       48.66        4.40     58.62  296.12  )])"
      ]
     },
     "execution_count": 3,
     "metadata": {},
     "output_type": "execute_result"
    }
   ],
   "source": [
    "# Load RData file\n",
    "rdata = pyreadr.read_r(\"data/decathlon.RData\")\n",
    "rdata"
   ]
  },
  {
   "cell_type": "code",
   "execution_count": 4,
   "metadata": {},
   "outputs": [
    {
     "data": {
      "text/html": [
       "<div>\n",
       "<style scoped>\n",
       "    .dataframe tbody tr th:only-of-type {\n",
       "        vertical-align: middle;\n",
       "    }\n",
       "\n",
       "    .dataframe tbody tr th {\n",
       "        vertical-align: top;\n",
       "    }\n",
       "\n",
       "    .dataframe thead th {\n",
       "        text-align: right;\n",
       "    }\n",
       "</style>\n",
       "<table border=\"1\" class=\"dataframe\">\n",
       "  <thead>\n",
       "    <tr style=\"text-align: right;\">\n",
       "      <th></th>\n",
       "      <th>100m</th>\n",
       "      <th>Long.jump</th>\n",
       "      <th>Shot.put</th>\n",
       "      <th>High.jump</th>\n",
       "      <th>400m</th>\n",
       "      <th>110m.hurdle</th>\n",
       "      <th>Discus</th>\n",
       "      <th>Pole.vault</th>\n",
       "      <th>Javeline</th>\n",
       "      <th>1500m</th>\n",
       "    </tr>\n",
       "    <tr>\n",
       "      <th>rownames</th>\n",
       "      <th></th>\n",
       "      <th></th>\n",
       "      <th></th>\n",
       "      <th></th>\n",
       "      <th></th>\n",
       "      <th></th>\n",
       "      <th></th>\n",
       "      <th></th>\n",
       "      <th></th>\n",
       "      <th></th>\n",
       "    </tr>\n",
       "  </thead>\n",
       "  <tbody>\n",
       "    <tr>\n",
       "      <th>SEBRLE</th>\n",
       "      <td>11.04</td>\n",
       "      <td>7.58</td>\n",
       "      <td>14.83</td>\n",
       "      <td>2.07</td>\n",
       "      <td>49.81</td>\n",
       "      <td>14.69</td>\n",
       "      <td>43.75</td>\n",
       "      <td>5.02</td>\n",
       "      <td>63.19</td>\n",
       "      <td>291.7</td>\n",
       "    </tr>\n",
       "    <tr>\n",
       "      <th>CLAY</th>\n",
       "      <td>10.76</td>\n",
       "      <td>7.40</td>\n",
       "      <td>14.26</td>\n",
       "      <td>1.86</td>\n",
       "      <td>49.37</td>\n",
       "      <td>14.05</td>\n",
       "      <td>50.72</td>\n",
       "      <td>4.92</td>\n",
       "      <td>60.15</td>\n",
       "      <td>301.5</td>\n",
       "    </tr>\n",
       "    <tr>\n",
       "      <th>KARPOV</th>\n",
       "      <td>11.02</td>\n",
       "      <td>7.30</td>\n",
       "      <td>14.77</td>\n",
       "      <td>2.04</td>\n",
       "      <td>48.37</td>\n",
       "      <td>14.09</td>\n",
       "      <td>48.95</td>\n",
       "      <td>4.92</td>\n",
       "      <td>50.31</td>\n",
       "      <td>300.2</td>\n",
       "    </tr>\n",
       "    <tr>\n",
       "      <th>BERNARD</th>\n",
       "      <td>11.02</td>\n",
       "      <td>7.23</td>\n",
       "      <td>14.25</td>\n",
       "      <td>1.92</td>\n",
       "      <td>48.93</td>\n",
       "      <td>14.99</td>\n",
       "      <td>40.87</td>\n",
       "      <td>5.32</td>\n",
       "      <td>62.77</td>\n",
       "      <td>280.1</td>\n",
       "    </tr>\n",
       "    <tr>\n",
       "      <th>YURKOV</th>\n",
       "      <td>11.34</td>\n",
       "      <td>7.09</td>\n",
       "      <td>15.19</td>\n",
       "      <td>2.10</td>\n",
       "      <td>50.42</td>\n",
       "      <td>15.31</td>\n",
       "      <td>46.26</td>\n",
       "      <td>4.72</td>\n",
       "      <td>63.44</td>\n",
       "      <td>276.4</td>\n",
       "    </tr>\n",
       "  </tbody>\n",
       "</table>\n",
       "</div>"
      ],
      "text/plain": [
       "           100m  Long.jump  Shot.put  High.jump   400m  110m.hurdle  Discus  \\\n",
       "rownames                                                                      \n",
       "SEBRLE    11.04       7.58     14.83       2.07  49.81        14.69   43.75   \n",
       "CLAY      10.76       7.40     14.26       1.86  49.37        14.05   50.72   \n",
       "KARPOV    11.02       7.30     14.77       2.04  48.37        14.09   48.95   \n",
       "BERNARD   11.02       7.23     14.25       1.92  48.93        14.99   40.87   \n",
       "YURKOV    11.34       7.09     15.19       2.10  50.42        15.31   46.26   \n",
       "\n",
       "          Pole.vault  Javeline  1500m  \n",
       "rownames                               \n",
       "SEBRLE          5.02     63.19  291.7  \n",
       "CLAY            4.92     60.15  301.5  \n",
       "KARPOV          4.92     50.31  300.2  \n",
       "BERNARD         5.32     62.77  280.1  \n",
       "YURKOV          4.72     63.44  276.4  "
      ]
     },
     "execution_count": 4,
     "metadata": {},
     "output_type": "execute_result"
    }
   ],
   "source": [
    "# Access the data frame from the loaded RData file\n",
    "decathlon = rdata[\"X\"]\n",
    "decathlon.head()"
   ]
  },
  {
   "cell_type": "code",
   "execution_count": 5,
   "metadata": {},
   "outputs": [],
   "source": [
    "# Convert the data frame to a CSV file\n",
    "decathlon.to_csv(\"decathlon.csv\", index=True)"
   ]
  },
  {
   "cell_type": "markdown",
   "metadata": {},
   "source": [
    "### Train and test datafiles"
   ]
  },
  {
   "cell_type": "code",
   "execution_count": 6,
   "metadata": {},
   "outputs": [
    {
     "data": {
      "text/html": [
       "<div>\n",
       "<style scoped>\n",
       "    .dataframe tbody tr th:only-of-type {\n",
       "        vertical-align: middle;\n",
       "    }\n",
       "\n",
       "    .dataframe tbody tr th {\n",
       "        vertical-align: top;\n",
       "    }\n",
       "\n",
       "    .dataframe thead th {\n",
       "        text-align: right;\n",
       "    }\n",
       "</style>\n",
       "<table border=\"1\" class=\"dataframe\">\n",
       "  <thead>\n",
       "    <tr style=\"text-align: right;\">\n",
       "      <th></th>\n",
       "      <th>x1</th>\n",
       "      <th>x2</th>\n",
       "      <th>y</th>\n",
       "    </tr>\n",
       "  </thead>\n",
       "  <tbody>\n",
       "    <tr>\n",
       "      <th>0</th>\n",
       "      <td>12.138367</td>\n",
       "      <td>6.455699</td>\n",
       "      <td>1</td>\n",
       "    </tr>\n",
       "    <tr>\n",
       "      <th>1</th>\n",
       "      <td>10.622594</td>\n",
       "      <td>11.083096</td>\n",
       "      <td>0</td>\n",
       "    </tr>\n",
       "    <tr>\n",
       "      <th>2</th>\n",
       "      <td>11.777052</td>\n",
       "      <td>8.121582</td>\n",
       "      <td>1</td>\n",
       "    </tr>\n",
       "    <tr>\n",
       "      <th>3</th>\n",
       "      <td>10.960882</td>\n",
       "      <td>12.226554</td>\n",
       "      <td>0</td>\n",
       "    </tr>\n",
       "    <tr>\n",
       "      <th>4</th>\n",
       "      <td>11.296539</td>\n",
       "      <td>10.211002</td>\n",
       "      <td>0</td>\n",
       "    </tr>\n",
       "    <tr>\n",
       "      <th>...</th>\n",
       "      <td>...</td>\n",
       "      <td>...</td>\n",
       "      <td>...</td>\n",
       "    </tr>\n",
       "    <tr>\n",
       "      <th>95</th>\n",
       "      <td>10.188695</td>\n",
       "      <td>6.171622</td>\n",
       "      <td>1</td>\n",
       "    </tr>\n",
       "    <tr>\n",
       "      <th>96</th>\n",
       "      <td>11.024072</td>\n",
       "      <td>4.082187</td>\n",
       "      <td>1</td>\n",
       "    </tr>\n",
       "    <tr>\n",
       "      <th>97</th>\n",
       "      <td>11.090619</td>\n",
       "      <td>10.954867</td>\n",
       "      <td>0</td>\n",
       "    </tr>\n",
       "    <tr>\n",
       "      <th>98</th>\n",
       "      <td>9.840793</td>\n",
       "      <td>4.902898</td>\n",
       "      <td>1</td>\n",
       "    </tr>\n",
       "    <tr>\n",
       "      <th>99</th>\n",
       "      <td>9.470945</td>\n",
       "      <td>8.945310</td>\n",
       "      <td>0</td>\n",
       "    </tr>\n",
       "  </tbody>\n",
       "</table>\n",
       "<p>100 rows × 3 columns</p>\n",
       "</div>"
      ],
      "text/plain": [
       "           x1         x2  y\n",
       "0   12.138367   6.455699  1\n",
       "1   10.622594  11.083096  0\n",
       "2   11.777052   8.121582  1\n",
       "3   10.960882  12.226554  0\n",
       "4   11.296539  10.211002  0\n",
       "..        ...        ... ..\n",
       "95  10.188695   6.171622  1\n",
       "96  11.024072   4.082187  1\n",
       "97  11.090619  10.954867  0\n",
       "98   9.840793   4.902898  1\n",
       "99   9.470945   8.945310  0\n",
       "\n",
       "[100 rows x 3 columns]"
      ]
     },
     "execution_count": 6,
     "metadata": {},
     "output_type": "execute_result"
    }
   ],
   "source": [
    "train = {\n",
    "    f\"{letter}\": pd.read_csv(\n",
    "        f\"data/train{letter}\", delimiter=\" \", names=[\"x1\", \"x2\", \"y\"]\n",
    "    )\n",
    "    for letter in [\"A\", \"B\", \"C\"]\n",
    "}\n",
    "train[\"A\"]"
   ]
  },
  {
   "cell_type": "code",
   "execution_count": 7,
   "metadata": {},
   "outputs": [
    {
     "data": {
      "text/html": [
       "<div>\n",
       "<style scoped>\n",
       "    .dataframe tbody tr th:only-of-type {\n",
       "        vertical-align: middle;\n",
       "    }\n",
       "\n",
       "    .dataframe tbody tr th {\n",
       "        vertical-align: top;\n",
       "    }\n",
       "\n",
       "    .dataframe thead th {\n",
       "        text-align: right;\n",
       "    }\n",
       "</style>\n",
       "<table border=\"1\" class=\"dataframe\">\n",
       "  <thead>\n",
       "    <tr style=\"text-align: right;\">\n",
       "      <th></th>\n",
       "      <th>x1</th>\n",
       "      <th>x2</th>\n",
       "      <th>y</th>\n",
       "    </tr>\n",
       "  </thead>\n",
       "  <tbody>\n",
       "    <tr>\n",
       "      <th>0</th>\n",
       "      <td>12.356261</td>\n",
       "      <td>6.053231</td>\n",
       "      <td>1</td>\n",
       "    </tr>\n",
       "    <tr>\n",
       "      <th>1</th>\n",
       "      <td>11.842674</td>\n",
       "      <td>4.832690</td>\n",
       "      <td>1</td>\n",
       "    </tr>\n",
       "    <tr>\n",
       "      <th>2</th>\n",
       "      <td>12.080976</td>\n",
       "      <td>5.739803</td>\n",
       "      <td>1</td>\n",
       "    </tr>\n",
       "    <tr>\n",
       "      <th>3</th>\n",
       "      <td>9.435296</td>\n",
       "      <td>8.878012</td>\n",
       "      <td>0</td>\n",
       "    </tr>\n",
       "    <tr>\n",
       "      <th>4</th>\n",
       "      <td>11.023415</td>\n",
       "      <td>6.173500</td>\n",
       "      <td>1</td>\n",
       "    </tr>\n",
       "    <tr>\n",
       "      <th>...</th>\n",
       "      <td>...</td>\n",
       "      <td>...</td>\n",
       "      <td>...</td>\n",
       "    </tr>\n",
       "    <tr>\n",
       "      <th>95</th>\n",
       "      <td>12.132122</td>\n",
       "      <td>10.539799</td>\n",
       "      <td>0</td>\n",
       "    </tr>\n",
       "    <tr>\n",
       "      <th>96</th>\n",
       "      <td>10.948403</td>\n",
       "      <td>6.676466</td>\n",
       "      <td>1</td>\n",
       "    </tr>\n",
       "    <tr>\n",
       "      <th>97</th>\n",
       "      <td>8.728051</td>\n",
       "      <td>5.950333</td>\n",
       "      <td>1</td>\n",
       "    </tr>\n",
       "    <tr>\n",
       "      <th>98</th>\n",
       "      <td>9.376795</td>\n",
       "      <td>9.968496</td>\n",
       "      <td>0</td>\n",
       "    </tr>\n",
       "    <tr>\n",
       "      <th>99</th>\n",
       "      <td>10.647086</td>\n",
       "      <td>4.942951</td>\n",
       "      <td>1</td>\n",
       "    </tr>\n",
       "  </tbody>\n",
       "</table>\n",
       "<p>100 rows × 3 columns</p>\n",
       "</div>"
      ],
      "text/plain": [
       "           x1         x2  y\n",
       "0   12.356261   6.053231  1\n",
       "1   11.842674   4.832690  1\n",
       "2   12.080976   5.739803  1\n",
       "3    9.435296   8.878012  0\n",
       "4   11.023415   6.173500  1\n",
       "..        ...        ... ..\n",
       "95  12.132122  10.539799  0\n",
       "96  10.948403   6.676466  1\n",
       "97   8.728051   5.950333  1\n",
       "98   9.376795   9.968496  0\n",
       "99  10.647086   4.942951  1\n",
       "\n",
       "[100 rows x 3 columns]"
      ]
     },
     "execution_count": 7,
     "metadata": {},
     "output_type": "execute_result"
    }
   ],
   "source": [
    "test = {\n",
    "    f\"{letter}\": pd.read_csv(\n",
    "        f\"data/test{letter}\", delimiter=\" \", names=[\"x1\", \"x2\", \"y\"]\n",
    "    )\n",
    "    for letter in [\"A\", \"B\", \"C\"]\n",
    "}\n",
    "test[\"A\"]"
   ]
  },
  {
   "cell_type": "markdown",
   "metadata": {},
   "source": [
    "# 1. Classification"
   ]
  },
  {
   "cell_type": "markdown",
   "metadata": {},
   "source": [
    "## 1.1 Analyse linéaire discriminante"
   ]
  },
  {
   "cell_type": "markdown",
   "metadata": {},
   "source": [
    "### a- Ecrire l'estimateur du maximum de vraisemblance des paramètres du modèle"
   ]
  },
  {
   "cell_type": "markdown",
   "metadata": {},
   "source": [
    "$$\\begin{align}\n",
    "\n",
    "L_{(x_i, y_i)_i}(\\pi, \\mu_0, \\mu_1, \\Sigma) \n",
    "    & = log \\hspace{8px} p(x_1,..., x_n, y_1,...y_n | \\pi, \\mu_0, \\mu_1, \\Sigma) \\\\\n",
    "    & = \\sum_{i=1}^n log \\hspace{8px} p(x_i, y_i | \\pi, \\mu_0, \\mu_1, \\Sigma) \\\\\n",
    "    & = \\sum_{i=1}^n log \\hspace{8px} p(x_i | y_i, \\mu_0, \\mu_1, \\Sigma) * p(y_i | \\pi) \\\\\n",
    "    & = \\sum_{i=1}^n log \\hspace{8px} p(x_i | y_i, \\mu_0, \\mu_1, \\Sigma) + \\sum_{i=1}^n log \\hspace{8px} p(y_i | \\pi)\n",
    "\\end{align}$$\n",
    "\n",
    "On remarque qu'en dérivant par rapport à $\\pi$ dans (4), on perdra la somme de gauche.  \n",
    "De même, en dérivant par rapport à $\\mu_0, \\mu_1$ ou $\\Sigma$, on perdra la somme de droite.  \n",
    "On va donc calculer $\\hat{\\pi}_{EMV}$ et $\\hat{\\mu_0}_{EMV}$, $\\hat{\\mu_1}_{EMV}$, $\\hat{\\Sigma}_{EMV}$ à part."
   ]
  },
  {
   "cell_type": "markdown",
   "metadata": {},
   "source": [
    "**Commençons par calculer $\\hat{\\pi}_{EMV}$**   \n",
    "\n",
    "$$\\begin{align*}\n",
    "\n",
    "L_{(y_i)_i}(\\pi) & = log \\hspace{8px} p(y_1,...y_n | \\pi) \\\\\n",
    "    & = \\sum_{i=1}^n log \\hspace{8px} p(y_i | \\pi) \\\\\n",
    "    & = \\sum_{i=1}^n log \\hspace{8px} \\pi^{y_i} \\cdot (1-\\pi)^{1-y_i} \\\\\n",
    "    & = \\sum_{i=1}^n y_i \\cdot log(\\pi) + (1-y_i) \\cdot log(1-\\pi) \\\\ \n",
    "\n",
    "\\end{align*}$$\n",
    "\n",
    "Dérivons cette quantité par rapport à $\\pi$\n",
    "\n",
    "$$\\begin{align*}\n",
    "\n",
    "\\nabla_\\pi(L_{(y_i)_i}(\\pi)) & = \\sum_{i=1}^n \\frac{y_i}{\\pi} - \\frac{1}{1-\\pi} + \\frac{y_i}{1-\\pi} \\\\\n",
    "    & = - \\frac{n}{1-\\pi} + \\sum_{i=1}^n \\frac{y_i}{\\pi(1-\\pi)}\n",
    "    \n",
    "\\end{align*}$$\n",
    "\n",
    "Maximiser la vraisemblance revient à maximiser la log-vraisemblance par croissance de la fonction logarithme sur $[0, 1]$, l'ensemble de définition de $\\pi$.  \n",
    "Déterminons la valeur de $\\pi$ qui maximise la log-vraisemblance.  \n",
    "\n",
    "Soit $\\pi \\in [0, 1] / \\nabla_\\pi(L_{(y_i)_i}(\\pi)) = 0$,\n",
    "alors on a\n",
    "$$ \\sum_{i=1}^n \\frac{y_i}{\\pi(1-\\pi)} = \\frac{n}{1-\\pi} $$\n",
    "i.e.\n",
    "$$ \\pi = \\frac{1}{n} \\sum_{i=1}^{n} y_i = \\bar{y}$$\n",
    "\n",
    "Donc $\\boxed{\\hat{\\pi}_{EMV} = \\bar{y}}$ \n"
   ]
  },
  {
   "cell_type": "markdown",
   "metadata": {},
   "source": [
    "**A présent, calculons $\\hat{\\mu_0}, \\hat{\\mu_1}$ et $\\hat{\\Sigma}$**\n",
    "\n",
    "$$\\begin{align*}\n",
    "\n",
    "L_{(x_i)_i}(y_i, \\mu_0, \\mu_1, \\Sigma)\n",
    "    & = log \\hspace{8px} p(x_1,...x_n | y_1,...,y_n, \\mu_0, \\mu_1, \\Sigma) \\\\\n",
    "    & = \\sum_{i=1}^n log \\hspace{8px} p(x_i | y_i, \\mu_0, \\mu_1, \\Sigma) \\\\\n",
    "    & = \\begin{align*}\n",
    "        \\sum_{i=1}^n\n",
    "            & \\mathbb{1}_{y_i = 0} \\cdot log \\hspace{8px} \\frac{1}{\\sqrt{2\\pi^{2}|\\Sigma|}} \\cdot \\exp^{-\\frac{1}{2} (x_i - \\mu_0)^T \\Sigma^{-1} (x_i - \\mu_0)} \\\\\n",
    "            & \\mathbb{1}_{y_i = 1} \\cdot log \\hspace{8px} \\frac{1}{\\sqrt{2\\pi^{2}|\\Sigma|}} \\cdot \\exp^{-\\frac{1}{2} (x_i - \\mu_1)^T \\Sigma^{-1} (x_i - \\mu_1)} \\\\\n",
    "        \\end{align*}\n",
    "        \\\\\n",
    "    & = \\begin{align*}\n",
    "        \\sum_{i=1}^n\n",
    "            & \\mathbb{1}_{y_i = 0} \\cdot [ \\frac{1}{2} \\cdot log(2\\pi^{2}|\\Sigma|) - \\frac{1}{2}\n",
    "            \\cdot (x_i - \\mu_0)^T \\Sigma^{-1} (x_i - \\mu_0) ] \\\\\n",
    "            & \\mathbb{1}_{y_i = 1} \\cdot [ \\frac{1}{2} \\cdot log(2\\pi^{2}|\\Sigma|) - \\frac{1}{2}\n",
    "            \\cdot (x_i - \\mu_1)^T \\Sigma^{-1} (x_i - \\mu_1) ]\n",
    "        \\end{align*}\n",
    "\n",
    "\\end{align*}$$"
   ]
  },
  {
   "cell_type": "markdown",
   "metadata": {},
   "source": [
    "On peut calculer, à partir de cette forme, le gradient de la log vraisemblance par rapport à $\\mu_0$.\n",
    "\n",
    "$$\n",
    "\\nabla_{\\mu_0}(L_{(x_i)_i}(y_i, \\mu_0, \\mu_1, \\Sigma))\n",
    "    = - \\sum_{i=1}^{n} \\mathbb{1}_{y_i = 0} \\cdot \\Sigma^{-1} \\cdot (x_i - \\mu_0)\n",
    "$$\n",
    "Et alors, on peut maximiser la log vraisemblance.  \n",
    "Soit $\\mu_0 \\in \\mathbb{R}^2 / \\nabla_{\\mu_0}(L_{(x_i)_i}(y_i, \\mu_0, \\mu_1, \\Sigma)) = 0_2$, on a alors\n",
    "$$\n",
    "- \\sum_{i=1}^{n} \\mathbb{1}_{y_i = 0} \\cdot ( \\Sigma^{-1} \\cdot x_i - \\Sigma^{-1} \\cdot \\mu_0 ) = 0\n",
    "$$\n",
    "Introduisons les notations $n_0 = card\\{i \\in [1;n] / y_i = 0\\}$, le nombre d'individus dans la classe 0,  \n",
    "et $\\bar{x_0} = \\sum_{i=1}^{n} \\mathbb{1}_{y_i = 0} \\cdot x_i$, la moyenne des individus de la classe 0.  \n",
    "\n",
    "On a alors\n",
    "$$ n_0 \\cdot \\Sigma^{-1} \\mu_0 = \\Sigma^{-1} \\cdot \\sum_{i=1}^{n} \\mathbb{1}_{y_i = 0} \\cdot x_i\n",
    "$$\n",
    "Et donc\n",
    "$$\\boxed{\\mu_0 = \\hat{\\mu_0} = \\frac{\\bar{x_0}}{n_0}}\n",
    "$$\n"
   ]
  },
  {
   "cell_type": "markdown",
   "metadata": {},
   "source": [
    "De la même façon, on calcule $\\boxed{\\displaystyle \\hat{\\mu_1} = \\frac{\\bar{x_1}}{n_1}}$"
   ]
  },
  {
   "cell_type": "markdown",
   "metadata": {},
   "source": [
    "**Calcul de $\\hat{\\Sigma}$ :**  \n",
    "On sait que $\\displaystyle \\hat{\\Sigma_{EMV}} = \\sum_{i=1}^{n} (x_i - \\hat{\\mu_{EMV}}) \\cdot (x_i - \\hat{\\mu_{EMV}})^T$ pour un vecteur aléatoire gaussien.\n",
    "\n",
    "Dans notre cas à deux classes,\n",
    "$$\\hat{\\Sigma_{EMV}} = \n",
    "    \\frac{\n",
    "        \\sum_{i=1}^{n} \\mathbb{1}_{y_i = 0} (x_i - \\hat{\\mu_0}) \\cdot (x_i - \\hat{\\mu_0})^T\n",
    "        + \\sum_{i=1}^{n} \\mathbb{1}_{y_i = 1} (x_i - \\hat{\\mu_1}) \\cdot (x_i - \\hat{\\mu_1})^T\n",
    "        }{\n",
    "            n\n",
    "        }\n",
    "$$\n",
    "\n",
    "**Justification :**  \n",
    "En réutilisant la preuve du cours,  \n",
    "$$\n",
    "\\begin{align*}\n",
    "\\nabla_{\\Sigma}(L_{(x_i)_i}(y_i, \\mu_0, \\mu_1, \\Sigma))\n",
    "    =\n",
    "    &- \\frac{n_0}{2}\\Sigma^{-1}\n",
    "    + \\frac{1}{2}\\Sigma^{-1} \\cdot \\sum_{i=1}^{n} \\mathbb{1}_{y_i = 0} (x_i - \\mu_0) \\cdot (x_i - \\mu_0)^T \\cdot \\Sigma^{-1} \\\\\n",
    "    &-\n",
    "    \\frac{n_1}{2}\\Sigma^{-1}\n",
    "    + \\frac{1}{2}\\Sigma^{-1} \\cdot \\sum_{i=1}^{n} \\mathbb{1}_{y_i = 1} (x_i - \\mu_1) \\cdot (x_i - \\mu_1)^T \\cdot \\Sigma^{-1}\n",
    "\\end{align*}\n",
    "$$\n",
    "On peut alors maximiser la vraisemblance :  \n",
    "\n",
    "$\\nabla_{\\Sigma}(L_{(x_i)_i}(y_i, \\mu_0, \\mu_1, \\Sigma)) = 0_{(2,2)}$\n",
    "\n",
    "$$\\Leftrightarrow\n",
    "\\begin{align*}\n",
    "0   =\n",
    "    &- \\frac{n_0}{2}\\Sigma + \\frac{1}{2} \\sum_{i=1}^{n} \\mathbb{1}_{y_i = 0} (x_i - \\mu_0) \\cdot (x_i - \\mu_0)^T \\\\\n",
    "    &-\n",
    "    \\frac{n_1}{2}\\Sigma + \\frac{1}{2} \\sum_{i=1}^{n} \\mathbb{1}_{y_i = 1} (x_i - \\mu_1) \\cdot (x_i - \\mu_1)^T\n",
    "\\end{align*}\n",
    "$$\n",
    "\n",
    "$$\\Leftrightarrow\n",
    "0 = -\\frac{n_0 + n_1}{2} \\cdot \\Sigma + \\frac{1}{2}\n",
    "    \\cdot \\sum_{i=1}^{n} \\mathbb{1}_{y_i = 0} \\cdot (x_i - \\mu_0) \\cdot (x_i - \\mu_0)^T\n",
    "    + \\mathbb{1}_{y_i = 1} (x_i - \\mu_1) \\cdot (x_i - \\mu_1)^T\n",
    "$$\n",
    "\n",
    "$$\\Leftrightarrow\n",
    "\\boxed{\n",
    "\\Sigma =\n",
    "\\frac{\n",
    "        \\sum_{i=1}^{n} \\mathbb{1}_{y_i = 0} \\cdot (x_i - \\mu_0) \\cdot (x_i - \\mu_0)^T\n",
    "        + \\mathbb{1}_{y_i = 1} (x_i - \\mu_1) \\cdot (x_i - \\mu_1)^T\n",
    "    }{\n",
    "        n_0 + n_1\n",
    "    }\n",
    "}\n",
    "$$\n"
   ]
  },
  {
   "cell_type": "markdown",
   "metadata": {},
   "source": [
    "### b- Donner la probabilité conditionnelle $P(Y=1|X=x)$. Comparer avec la même quantité dans le cadre de la régression logistique"
   ]
  },
  {
   "cell_type": "markdown",
   "metadata": {},
   "source": [
    "On rappel que l'on note $p(x|\\theta)$ la fonction de densité de la loi marginale de $X$ de paramètre $\\theta$ évaluée en $x$.\n",
    "$$\\begin{align}\n",
    "P(Y=1 | X=x)\n",
    "    &= \\frac{p(x | y=1, \\theta) \\cdot p(y=1|\\pi)}{p(x | \\theta)} \\\\\n",
    "    &= \\frac{\\mathcal{N}(x ; \\mu_1, \\Sigma) \\cdot \\pi}{p(x | \\theta)} \\\\\n",
    "\\end{align}\n",
    "$$\n",
    "Par renversement du conditionnement avec la formule de Bayes.  \n",
    "\n",
    "On peut calculer la loi marginale de $X$ au dénominateur :\n",
    "$$\n",
    "\\begin{align*}\n",
    "p(x | \\theta)\n",
    "    =& \\mathcal{N}(x ; \\mu_0, \\Sigma) \\cdot p(y=0|\\pi) + \\mathcal{N}(x ; \\mu_1, \\Sigma) \\cdot p(y=1|\\pi) \\\\\n",
    "    =& \\frac{1}{\\sqrt{2\\pi^{2}|\\Sigma|}} \\cdot e^{-\\frac{1}{2} (x - \\mu_0)^T \\Sigma^{-1} (x - \\mu_0)} \\cdot (1-\\pi)\n",
    "    + \\frac{1}{\\sqrt{2\\pi^{2}|\\Sigma|}} \\cdot e^{-\\frac{1}{2} (x - \\mu_1)^T \\Sigma^{-1} (x - \\mu_1)} \\cdot \\pi\n",
    "\\end{align*}\n",
    "$$\n",
    "$X$ est un mélange de gaussiennes de même matrices de variances covariances et de moyennes différentes."
   ]
  },
  {
   "cell_type": "markdown",
   "metadata": {},
   "source": [
    "Développons la formule.\n",
    "\n",
    "$$\\begin{align*}\n",
    "P(Y=1 | X=x)\n",
    "    &= \\frac{\n",
    "        \\mathcal{N}(x ; \\mu_1, \\Sigma) \\cdot \\pi\n",
    "    }{\n",
    "        \\mathcal{N}(x ; \\mu_0, \\Sigma) \\cdot (1-\\pi) + \\mathcal{N}(x ; \\mu_1, \\Sigma) \\cdot \\pi\n",
    "    } \\\\\n",
    "    &= \\frac{1}{\n",
    "        1 + \\frac{\n",
    "            \\mathcal{N}(x ; \\mu_0, \\Sigma) \\cdot (1-\\pi)\n",
    "        }{\n",
    "            \\mathcal{N}(x ; \\mu_1, \\Sigma) \\cdot \\pi\n",
    "        }\n",
    "    } \\hspace{10px} \\text{en factorisant par $\\mathcal{N}(x ; \\mu_1, \\Sigma) \\cdot \\pi$ et en supposant que $\\pi \\ne 0$} \\\\\n",
    "    &= \\frac{1}{\n",
    "        1 + \\frac{1-\\pi}{\\pi} \\cdot\n",
    "        \\exp[\\frac{1}{2}(\n",
    "                    (x-\\mu_0)^T \\Sigma^{-1} (x-\\mu_0)\n",
    "                -\n",
    "                    (x-\\mu_1)^T \\Sigma^{-1} (x-\\mu_1)\n",
    "                )]\n",
    "    }\n",
    "\\end{align*}\n",
    "$$\n",
    "\n",
    "**Dans le cas $\\pi = \\frac{1}{2}$, on peut se ramener à la régression logistique :**\n",
    "\n",
    "$$\\begin{align*}\n",
    "P(Y=1 | X=x)\n",
    "    &= \\frac{1}{\n",
    "        1 + \\exp[\\frac{1}{2}(\n",
    "                    (x-\\mu_0)^T \\Sigma^{-1} (x-\\mu_0)\n",
    "                -\n",
    "                    (x-\\mu_1)^T \\Sigma^{-1} (x-\\mu_1)\n",
    "                )]\n",
    "    } \\\\\n",
    "    &= \\frac{1}{\n",
    "        1 + \\exp(\n",
    "                x^T \\Sigma^{-1} \\mu_1 - x^T \\Sigma^{-1} \\mu_0\n",
    "                + \\frac{1}{2} \\mu_0 \\Sigma^{-1} \\mu_0 - \\frac{1}{2} \\mu_1 \\Sigma^{-1} \\mu_1\n",
    "        )} \\\\\n",
    "    &= \\frac{1}{\n",
    "        1 + \\exp(\n",
    "                x^T \\Sigma^{-1} (\\mu_1 - \\mu_0)\n",
    "                + \\frac{1}{2} \\mu_0 \\Sigma^{-1} \\mu_0 - \\frac{1}{2} \\mu_1 \\Sigma^{-1} \\mu_1\n",
    "        )} \\\\\n",
    "    &= \\frac{1}{\n",
    "        1 + \\exp(\n",
    "                x^T \\beta\n",
    "                + \\beta_0\n",
    "        )}\n",
    "\\end{align*}\n",
    "$$\n",
    "En notant $\\beta = \\Sigma^{-1} (\\mu_1 - \\mu_0)$ et $\\beta_0 = \\frac{1}{2} \\mu_0 \\Sigma^{-1} \\mu_0 - \\frac{1}{2} \\mu_1 \\Sigma^{-1} \\mu_1$  \n",
    "\n",
    "Pour une valeur de $\\pi \\in [0 ; 1]$ quelconque, on remarque que l'on a un critère de classification plus riche que la régression logistique.  \n",
    "En effet, l'analyse linéaire discriminante prend en compte les poids associés aux classes :\n",
    "\n",
    "$$ P(Y=1 | X=x) = \\frac{1}{1 + \\frac{1 - \\pi}{\\pi} \\exp(x^T \\beta + \\beta_0)} $$"
   ]
  },
  {
   "cell_type": "markdown",
   "metadata": {},
   "source": [
    "### c- Implémenter l’EMV pour ce modèle\n",
    "Appliquer l’EMV aux données. Représenter graphiquement les données sous la forme d’un nuage de points dans $\\mathbb{R}^2$ ainsi que la fonction définie pour x∈R2 par l’équation $P(Y=1|X=x)=1/2$"
   ]
  },
  {
   "cell_type": "markdown",
   "metadata": {},
   "source": [
    "#### Définitions de fonctions"
   ]
  },
  {
   "cell_type": "code",
   "execution_count": 8,
   "metadata": {},
   "outputs": [],
   "source": [
    "def calc_pi_mle(dataset: pd.DataFrame) -> float:\n",
    "    \"\"\"Calculate maximum likelihood estimator for pi\n",
    "\n",
    "    Args:\n",
    "        dataset (pd.DataFrame): Dataset containing a binary class column named \"y\"\n",
    "\n",
    "    Returns:\n",
    "        float: Maximum likelihood for pi\n",
    "    \"\"\"\n",
    "\n",
    "    y = dataset.loc[:, \"y\"]\n",
    "    pi_mle = sum(y) / len(y)\n",
    "\n",
    "    return pi_mle"
   ]
  },
  {
   "cell_type": "code",
   "execution_count": 9,
   "metadata": {},
   "outputs": [],
   "source": [
    "def calc_mu_mle(dataset: pd.DataFrame) -> tuple:\n",
    "    \"\"\"Calculate maximum likelihood estimator for mu_0 and mu_1\n",
    "\n",
    "    Args:\n",
    "        dataset (pd.DataFrame): Two dimensional dataset (\"x1\", \"x2\") with a binary class column \"y\"\n",
    "\n",
    "    Returns:\n",
    "        tuple: (mu0_mle, mu1_mle)\n",
    "    \"\"\"\n",
    "\n",
    "    # Split dataset based on class\n",
    "    class0 = dataset[dataset[\"y\"] == 0]\n",
    "    class1 = dataset[dataset[\"y\"] == 1]\n",
    "\n",
    "    # Calculate mu0_mle and mu1_mle\n",
    "    mu0_mle = class0.loc[:, [\"x1\", \"x2\"]].sum() / len(class0)\n",
    "    mu1_mle = class1.loc[:, [\"x1\", \"x2\"]].sum() / len(class1)\n",
    "\n",
    "    # Convert as numpy array\n",
    "    mu0_mle = np.array(mu0_mle)\n",
    "    mu1_mle = np.array(mu1_mle)\n",
    "\n",
    "    return (mu0_mle, mu1_mle)"
   ]
  },
  {
   "cell_type": "code",
   "execution_count": 10,
   "metadata": {},
   "outputs": [],
   "source": [
    "def calc_sigma_mle(dataset: pd.DataFrame, mu0_mle: float, mu1_mle: float) -> np.ndarray:\n",
    "    \"\"\"Calculate maximum likelihood for variance covariance matrix\n",
    "\n",
    "    Args:\n",
    "        dataset (pd.DataFrame): Two dimensional dataset (\"x1\", \"x2\") with a binary class column \"y\"\n",
    "        mu0_mle (float): MLE for mu0\n",
    "        mu1_mle (float): MLE for mu1\n",
    "\n",
    "    Returns:\n",
    "        np.ndarray: MLE for sigma of shape (2, 2)\n",
    "    \"\"\"\n",
    "    # Split dataset based on class\n",
    "    class0 = dataset[dataset[\"y\"] == 0]\n",
    "    class1 = dataset[dataset[\"y\"] == 1]\n",
    "\n",
    "    # Transform into numpy array for easier computation\n",
    "    class0 = np.array(class0[[\"x1\", \"x2\"]])\n",
    "    class1 = np.array(class1[[\"x1\", \"x2\"]])\n",
    "\n",
    "    sum_over_class1 = (class0 - mu0_mle).T @ (\n",
    "        class0 - mu0_mle\n",
    "    )  # (2, 52) * (52, 2) = (2, 2)\n",
    "    # (52, 2) - (2,) substract the (2,) vector\n",
    "    # element wise to each row of the (52, 2) matrix in numpy\n",
    "    sum_over_class2 = (class1 - mu1_mle).T @ (class1 - mu1_mle)\n",
    "\n",
    "    sigma_mle = (sum_over_class1 + sum_over_class2) / len(\n",
    "        dataset\n",
    "    )  # len(dataset) = n_0 + n_1 = n\n",
    "\n",
    "    return sigma_mle"
   ]
  },
  {
   "cell_type": "markdown",
   "metadata": {},
   "source": [
    "#### Calculs des EMV"
   ]
  },
  {
   "cell_type": "code",
   "execution_count": 11,
   "metadata": {},
   "outputs": [],
   "source": [
    "# Apply MLE to train data\n",
    "\n",
    "\n",
    "dataset = train[\"A\"]\n",
    "\n",
    "pi_mle = calc_pi_mle(dataset)\n",
    "mu0_mle, mu1_mle = calc_mu_mle(dataset)\n",
    "sigma_mle = calc_sigma_mle(dataset, mu0_mle=mu0_mle, mu1_mle=mu1_mle)"
   ]
  },
  {
   "cell_type": "markdown",
   "metadata": {},
   "source": [
    "#### Tracé du nuage de points et de la frontière de décision"
   ]
  },
  {
   "cell_type": "markdown",
   "metadata": {},
   "source": [
    "**Cherchons l'équation de droite pour notre frontière de décision.**\n",
    "\n",
    "$$ P(Y=1|X=x) = \\frac{1}{2}\n",
    "$$\n",
    "\n",
    "$$\\Leftrightarrow\n",
    "\\frac{1}{\n",
    "        1 + \\frac{1-\\pi}{\\pi} \\cdot\n",
    "        \\exp[x^T \\Sigma^{-1} (\\mu_1 - \\mu_0)\n",
    "            + \\frac{1}{2} \\mu_0 \\Sigma^{-1} \\mu_0 - \\frac{1}{2} \\mu_1 \\Sigma^{-1} \\mu_1]\n",
    "    } = \\frac{1}{2}\n",
    "$$\n",
    "\n",
    "$$ \\Leftrightarrow\n",
    "\\frac{1-\\pi}{\\pi} \\cdot\n",
    "\\exp[x^T \\Sigma^{-1} (\\mu_1 - \\mu_0)\n",
    "    + \\frac{1}{2} \\mu_0 \\Sigma^{-1} \\mu_0 - \\frac{1}{2} \\mu_1 \\Sigma^{-1} \\mu_1\n",
    "    ]\n",
    "= 1\n",
    "$$\n",
    "\n",
    "$$ \\Leftrightarrow\n",
    "\\exp[x^T \\Sigma^{-1} (\\mu_1 - \\mu_0)\n",
    "    + \\frac{1}{2} \\mu_0 \\Sigma^{-1} \\mu_0 - \\frac{1}{2} \\mu_1 \\Sigma^{-1} \\mu_1\n",
    "    ]\n",
    "= \\frac{\\pi}{1-\\pi} \\hspace{8px} \\text{en supposant que $\\pi \\ne 1$}\n",
    "$$\n",
    "\n",
    "$$ \\Leftrightarrow\n",
    "x^T \\Sigma^{-1} (\\mu_1 - \\mu_0)\n",
    "+ \\frac{1}{2} \\mu_0 \\Sigma^{-1} \\mu_0 - \\frac{1}{2} \\mu_1 \\Sigma^{-1} \\mu_1\n",
    "= \\ln(\\frac{\\pi}{1-\\pi}) \\hspace{8px} \\text{car $\\frac{\\pi}{1-\\pi} > 0$}\n",
    "$$\n",
    "\n",
    "$$ \\Leftrightarrow\n",
    "x^T \\Sigma^{-1} (\\mu_1 - \\mu_0)\n",
    "=   - \\frac{1}{2} \\mu_0 \\Sigma^{-1} \\mu_0\n",
    "    + \\frac{1}{2} \\mu_1 \\Sigma^{-1} \\mu_1\n",
    "    + \\ln(\\frac{\\pi}{1-\\pi})\n",
    "$$"
   ]
  },
  {
   "cell_type": "markdown",
   "metadata": {},
   "source": [
    "Notons $x^T = (x_1, x_2)$ et $\\mu_1 - \\mu_0 = \\lambda = (\\lambda_1, \\lambda_2)$  \n",
    "Alors \n",
    "$$ x^T \\Sigma^{-1} (\\mu_1 - \\mu_0)\n",
    "    = x_1 \\cdot (\\Sigma^{-1}_{1,1} \\lambda_1 + \\Sigma^{-1}_{1,2} \\lambda_2)\n",
    "    + x_2 \\cdot (\\Sigma^{-1}_{2,1} \\lambda_1 + \\Sigma^{-1}_{2,2} \\lambda_2)\n",
    "$$\n",
    "\n",
    "Avec cette forme développée, nous pouvons expliciter la formule de la droite d'équation\n",
    "$P(Y=1|X=x) = \\frac{1}{2}$"
   ]
  },
  {
   "cell_type": "markdown",
   "metadata": {},
   "source": [
    "$$\\Leftrightarrow\n",
    "\n",
    "x_1 = \\frac{\n",
    "        - \\frac{1}{2} \\mu_0 \\Sigma^{-1} \\mu_0\n",
    "        + \\frac{1}{2} \\mu_1 \\Sigma^{-1} \\mu_1\n",
    "        + \\ln(\\frac{\\pi}{1-\\pi})\n",
    "        - x_2 \\cdot (\\Sigma^{-1}_{2,1} \\lambda_1 + \\Sigma^{-1}_{2,2} \\lambda_2)\n",
    "}{\n",
    "    \\Sigma^{-1}_{1,1} \\lambda_1 + \\Sigma^{-1}_{1,2} \\lambda_2\n",
    "}\n",
    "$$"
   ]
  },
  {
   "cell_type": "markdown",
   "metadata": {},
   "source": [
    "On peut désormais calculer l'équation de la droite de séparation de façon explicite, sans avoir à faire de *meshgrid* sur notre espace de données."
   ]
  },
  {
   "cell_type": "code",
   "execution_count": 12,
   "metadata": {},
   "outputs": [],
   "source": [
    "# Calculate inverse of sigma_mle\n",
    "sigma_mle_inv = np.linalg.inv(sigma_mle)\n",
    "\n",
    "# Define lambda_ as above\n",
    "lambda_ = mu1_mle - mu0_mle"
   ]
  },
  {
   "cell_type": "code",
   "execution_count": 13,
   "metadata": {},
   "outputs": [],
   "source": [
    "# Make a sample vector for x2\n",
    "xx2 = np.linspace(4, 14, 100)\n",
    "\n",
    "# Calculate upper part of the fraction above\n",
    "numerateur = (\n",
    "    (-1 / 2) * (mu0_mle @ sigma_mle_inv @ mu0_mle.T)\n",
    "    + (1 / 2) * (mu1_mle @ sigma_mle_inv @ mu1_mle.T)\n",
    "    + np.log(pi_mle / (1 - pi_mle))\n",
    "    - xx2 * (sigma_mle_inv[1, 0] * lambda_[0] + sigma_mle_inv[1, 1] * lambda_[1])\n",
    ")\n",
    "\n",
    "# Calculate lower part of the fraction above\n",
    "denominateur = sigma_mle_inv[0, 0] * lambda_[0] + sigma_mle_inv[0, 1] * lambda_[1]\n",
    "\n",
    "# Calculate f(xx2), the border of decision\n",
    "f_xx2 = numerateur / denominateur"
   ]
  },
  {
   "cell_type": "code",
   "execution_count": 14,
   "metadata": {},
   "outputs": [
    {
     "data": {
      "image/png": "[encoded data removed]",
      "text/plain": [
       "<Figure size 640x480 with 1 Axes>"
      ]
     },
     "metadata": {},
     "output_type": "display_data"
    }
   ],
   "source": [
    "plt.scatter(\n",
    "    dataset.loc[:, \"x1\"], dataset.loc[:, \"x2\"], c=dataset.loc[:, \"y\"], cmap=\"copper\"\n",
    ")\n",
    "plt.plot(f_xx2, xx2, label=\"Frontière de décision\")\n",
    "plt.xlabel(\"x1\")\n",
    "plt.ylabel(\"x2\")\n",
    "plt.title(\"Nuage de points des données colorés par classe\")\n",
    "plt.legend()\n",
    "plt.ylim([3, 14])\n",
    "plt.xlim([8, 15])\n",
    "plt.show()"
   ]
  },
  {
   "cell_type": "markdown",
   "metadata": {},
   "source": [
    "## 1.2 Régression logistique"
   ]
  },
  {
   "cell_type": "markdown",
   "metadata": {},
   "source": [
    "On rappelle le modèle de régression logistique :\n",
    "\n",
    "$$\n",
    "y_i | x_i, \\beta \\sim \\text{B}(g(x_i^\\top \\beta)), \\quad \\forall i \\in \\{1, \\ldots, n\\},\n",
    "$$\n",
    "\n",
    "où $ g : t \\rightarrow \\frac{1}{1 + \\exp(-t)}, \\hspace{8px} \\forall t \\in \\mathbb{R} $ est la fonction logistique.  \n",
    "\n",
    "La fonction d'erreur à optimiser (minimiser) est la fonction de vraisemblance négative :  \n",
    "\n",
    "$$ -\\mathcal{L}_{(x_i, y_i)_i} (\\beta) = -\\frac{1}{n} \\sum_{i=1}^{n} \\left\\{ y_i \\log g(x_i^\\top \\beta) + (1 - y_i) \\log(1 - g(x_i^\\top \\beta)) \\right\\}\n",
    "$$\n",
    "\n"
   ]
  },
  {
   "cell_type": "markdown",
   "metadata": {},
   "source": [
    "### a- Donner les valeurs numériques des paramètres appris"
   ]
  },
  {
   "cell_type": "code",
   "execution_count": 15,
   "metadata": {},
   "outputs": [],
   "source": [
    "# Define sigmoid function\n",
    "\n",
    "\n",
    "def sigmoid(z):\n",
    "    return 1 / (1 + np.exp(-z))\n",
    "\n",
    "\n",
    "# Define cost function for logistic regression\n",
    "def log_reg_cost_function(params: np.ndarray, X: np.ndarray, y: np.ndarray):\n",
    "    predictions = sigmoid(np.dot(X, params))\n",
    "    error = -y * np.log(predictions) - (1 - y) * np.log(1 - predictions)\n",
    "    cost = (1 / len(y)) * sum(error)\n",
    "    return cost"
   ]
  },
  {
   "cell_type": "code",
   "execution_count": 16,
   "metadata": {},
   "outputs": [
    {
     "name": "stderr",
     "output_type": "stream",
     "text": [
      "C:\\Users\\jules\\AppData\\Local\\Temp\\ipykernel_13148\\2109762546.py:11: RuntimeWarning: divide by zero encountered in log\n",
      "  error = -y * np.log(predictions) - (1 - y) * np.log(1 - predictions)\n",
      "C:\\Users\\jules\\AppData\\Local\\Temp\\ipykernel_13148\\2109762546.py:5: RuntimeWarning: overflow encountered in exp\n",
      "  return 1 / (1 + np.exp(-z))\n",
      "C:\\Users\\jules\\AppData\\Local\\Temp\\ipykernel_13148\\2109762546.py:11: RuntimeWarning: divide by zero encountered in log\n",
      "  error = -y * np.log(predictions) - (1 - y) * np.log(1 - predictions)\n",
      "C:\\Users\\jules\\AppData\\Local\\Temp\\ipykernel_13148\\2109762546.py:5: RuntimeWarning: overflow encountered in exp\n",
      "  return 1 / (1 + np.exp(-z))\n",
      "C:\\Users\\jules\\AppData\\Local\\Temp\\ipykernel_13148\\2109762546.py:5: RuntimeWarning: overflow encountered in exp\n",
      "  return 1 / (1 + np.exp(-z))\n",
      "C:\\Users\\jules\\AppData\\Local\\Temp\\ipykernel_13148\\2109762546.py:11: RuntimeWarning: divide by zero encountered in log\n",
      "  error = -y * np.log(predictions) - (1 - y) * np.log(1 - predictions)\n"
     ]
    }
   ],
   "source": [
    "# Define X and y\n",
    "X = dataset.loc[:, [\"x1\", \"x2\"]]\n",
    "y = dataset.loc[:, \"y\"]\n",
    "\n",
    "# Add bias to X\n",
    "X = np.c_[np.ones((X.shape[0], 1)), X]\n",
    "\n",
    "# Init parameters\n",
    "beta = np.zeros(X.shape[1])\n",
    "\n",
    "# Optimize cost function\n",
    "beta_hat = minimize(fun=log_reg_cost_function, x0=beta, args=(X, y))"
   ]
  },
  {
   "cell_type": "code",
   "execution_count": 17,
   "metadata": {},
   "outputs": [
    {
     "name": "stdout",
     "output_type": "stream",
     "text": [
      "beta_0 = 121.79684519604176\n",
      "beta_1 = 1021.6360129800661\n",
      "beta_2 = -1292.593333667455\n"
     ]
    }
   ],
   "source": [
    "beta_hat = beta_hat.x\n",
    "\n",
    "# Print parameters of the model\n",
    "for i, param in enumerate(beta_hat):\n",
    "    print(f\"beta_{i} = {param}\")"
   ]
  },
  {
   "cell_type": "markdown",
   "metadata": {},
   "source": [
    "### b- Représenter graphiquement les données sous la forme d’un nuage de points dans $\\mathbb{R}^2$ ainsi que la fonction définie pour x∈R2 par l’équation $P(Y=1|X=x)=1/2$"
   ]
  },
  {
   "cell_type": "markdown",
   "metadata": {},
   "source": [
    "De façon analogue à la partie précédente, de l'analyse linéaire discriminante, nous avons $P(Y=1|X=x) = \\frac{1}{2}$\n",
    "\n",
    "$$\\Leftrightarrow\n",
    "x_1 = \\frac{\n",
    "        1 - \\beta_0 - x_2 \\cdot \\beta_2\n",
    "}{\n",
    "        \\beta_1\n",
    "} \\hspace{10px} \\text{sous réserve que $\\beta_1 \\ne 0$}\n",
    "$$"
   ]
  },
  {
   "cell_type": "code",
   "execution_count": 18,
   "metadata": {},
   "outputs": [
    {
     "name": "stderr",
     "output_type": "stream",
     "text": [
      "C:\\Users\\jules\\AppData\\Local\\Temp\\ipykernel_13148\\2109762546.py:5: RuntimeWarning: overflow encountered in exp\n",
      "  return 1 / (1 + np.exp(-z))\n"
     ]
    }
   ],
   "source": [
    "# Predict classes\n",
    "pred_proba = sigmoid(np.dot(X, beta_hat))\n",
    "y_pred = [proba > 0.5 for proba in pred_proba]"
   ]
  },
  {
   "cell_type": "code",
   "execution_count": 19,
   "metadata": {},
   "outputs": [],
   "source": [
    "# Calculate decision border line\n",
    "f_xx2 = (1 - beta_hat[0] - xx2 * beta_hat[2]) / beta_hat[1]"
   ]
  },
  {
   "cell_type": "code",
   "execution_count": 20,
   "metadata": {},
   "outputs": [
    {
     "data": {
      "image/png": "[encoded data removed]",
      "text/plain": [
       "<Figure size 640x480 with 1 Axes>"
      ]
     },
     "metadata": {},
     "output_type": "display_data"
    }
   ],
   "source": [
    "# Plot data points colored based on prediction\n",
    "plt.scatter(dataset.loc[:, \"x1\"], dataset.loc[:, \"x2\"], c=y_pred, cmap=\"copper\")\n",
    "plt.plot(f_xx2, xx2, label=\"Frontière de décision\")\n",
    "plt.xlabel(\"x1\")\n",
    "plt.ylabel(\"x2\")\n",
    "plt.title(\"Nuage de points colorés en fonction de leur classe prédite\")\n",
    "plt.legend()\n",
    "plt.ylim([3, 14])\n",
    "plt.xlim([8, 15])\n",
    "plt.show()"
   ]
  },
  {
   "cell_type": "markdown",
   "metadata": {},
   "source": [
    "On voit que **la frontière de décision est différente** de celle de l'analyse linéaire discriminante.  \n",
    "La régression logistique manque tout juste de se tromper de classe pour le point de coordonnées (9.8, 7), très proche de la  frontière.  "
   ]
  },
  {
   "cell_type": "markdown",
   "metadata": {},
   "source": [
    "## 1.2 Régression linéaire"
   ]
  },
  {
   "cell_type": "markdown",
   "metadata": {},
   "source": [
    "Le modèle de régression linéaire multivariée est donné par :\n",
    "$$\n",
    "y_i = \\beta_0 + x_i^\\top \\beta + \\epsilon_i, \\quad \\forall i \\in \\{1, \\ldots, n\\},\n",
    "$$\n",
    "où $\\epsilon_i $ est i.i.d. selon une distribution normale $ N(0, \\sigma^2) $.  \n",
    "\n",
    "L'estimateur du maximum de vraisemblance du vecteur des paramètres de la régression $\\beta$ est donné par :\n",
    "$$\n",
    "\\hat{\\beta}_{EMV} = (X^\\top X)^{-1} X^\\top Y.\n",
    "$$\n",
    "\n",
    "\n",
    "**Dans notre cas, nous considérons $y_i$ comme une variable réelle ne prenant que les valeurs 0 ou 1.**"
   ]
  },
  {
   "cell_type": "markdown",
   "metadata": {},
   "source": [
    "### a- Donner les valeurs numériques des paramètres appris"
   ]
  },
  {
   "cell_type": "code",
   "execution_count": 21,
   "metadata": {},
   "outputs": [
    {
     "name": "stdout",
     "output_type": "stream",
     "text": [
      "beta_0 = 1.3834577395036867\n",
      "beta_1 = 0.055824382702706496\n",
      "beta_2 = -0.1763663631689511\n"
     ]
    }
   ],
   "source": [
    "# Compute linear regression parameters\n",
    "beta_hat = np.linalg.inv(X.T @ X) @ X.T @ y\n",
    "\n",
    "# Print parameters\n",
    "for i, param in enumerate(beta_hat):\n",
    "    print(f\"beta_{i} = {param}\")"
   ]
  },
  {
   "cell_type": "markdown",
   "metadata": {},
   "source": [
    "### b- Représenter graphiquement les données sous la forme d’un nuage de points dans $\\mathbb{R}^2$ ainsi que la fonction définie pour x∈R2 par l’équation $P(Y=1|X=x)=1/2$"
   ]
  },
  {
   "cell_type": "markdown",
   "metadata": {},
   "source": [
    "Afin d'adapter la régression linéaire à notre problème de classification, on adopte la règle suivante :\n",
    "$$y_i = \\begin{cases}\n",
    "    0 & \\text{si} \\hspace{10px} \\beta_0 + x_i^\\top \\beta \\leq \\frac{1}{2} \\\\\n",
    "    1 & \\text{si} \\hspace{10px} \\beta_0 + x_i^\\top \\beta > \\frac{1}{2}\n",
    "\\end{cases}$$"
   ]
  },
  {
   "cell_type": "markdown",
   "metadata": {},
   "source": [
    "Ainsi, la frontière de décision est située sur la droite représentée par l'équation\n",
    "$$\\beta_0 + x_i^T \\beta = \\frac{1}{2}\n",
    "$$\n",
    "$$\\Leftrightarrow\n",
    "x_1 = \\frac{\n",
    "    \\frac{1}{2} - \\beta_0 - x_2 \\beta_2\n",
    "}{\n",
    "    \\beta_1\n",
    "} \\hspace{10px} \\text{sous réserve que $\\beta_1 \\ne 0$}\n",
    "$$"
   ]
  },
  {
   "cell_type": "code",
   "execution_count": 22,
   "metadata": {},
   "outputs": [],
   "source": [
    "# Calculate decision border\n",
    "f_xx2 = (0.5 - beta_hat[0] - xx2 * beta_hat[2]) / beta_hat[1]"
   ]
  },
  {
   "cell_type": "code",
   "execution_count": 23,
   "metadata": {},
   "outputs": [
    {
     "data": {
      "image/png": "[encoded data removed]",
      "text/plain": [
       "<Figure size 640x480 with 1 Axes>"
      ]
     },
     "metadata": {},
     "output_type": "display_data"
    }
   ],
   "source": [
    "# Plot data points colored based on prediction\n",
    "plt.scatter(\n",
    "    dataset.loc[:, \"x1\"], dataset.loc[:, \"x2\"], c=dataset.loc[:, \"y\"], cmap=\"copper\"\n",
    ")\n",
    "plt.plot(f_xx2, xx2, label=\"Frontière de décision\")\n",
    "plt.xlabel(\"x1\")\n",
    "plt.ylabel(\"x2\")\n",
    "plt.title(\n",
    "    \"Nuage de points colorés en fonction de leur classe et la frontière de décision\"\n",
    ")\n",
    "plt.legend()\n",
    "plt.ylim([3, 14])\n",
    "plt.xlim([8, 15])\n",
    "plt.show()"
   ]
  },
  {
   "cell_type": "markdown",
   "metadata": {},
   "source": [
    "## 4. Réseau de neurones\n",
    "Implémenter un classifieur pour ce problème à l'aide de PyTorch (obligatoirement). Le classifieur doit être un réseau de neurones à 5 couches cachées. Chaque couche cachée $ j $ doit avoir $ 10 - j $ neurones. Ainsi, la première couche cachée doit avoir 9 neurones et la cinquième 5.\n"
   ]
  },
  {
   "cell_type": "code",
   "execution_count": 24,
   "metadata": {},
   "outputs": [],
   "source": [
    "# Define neural network\n",
    "\n",
    "\n",
    "class Classifier(nn.Module):\n",
    "    def __init__(self):\n",
    "        super(Classifier, self).__init__()\n",
    "        self.fc1 = nn.Linear(in_features=2, out_features=9)\n",
    "        self.fc2 = nn.Linear(9, 8)\n",
    "        self.fc3 = nn.Linear(8, 7)\n",
    "        self.fc4 = nn.Linear(7, 6)\n",
    "        self.fc5 = nn.Linear(6, 5)\n",
    "        self.fc6 = nn.Linear(5, 1)\n",
    "\n",
    "    def forward(self, x):\n",
    "        x = torch.relu(self.fc1(x))\n",
    "        x = torch.relu(self.fc2(x))\n",
    "        x = torch.relu(self.fc3(x))\n",
    "        x = torch.relu(self.fc4(x))\n",
    "        x = torch.relu(self.fc5(x))\n",
    "        x = torch.sigmoid(self.fc6(x))\n",
    "        return x"
   ]
  },
  {
   "cell_type": "code",
   "execution_count": 25,
   "metadata": {},
   "outputs": [],
   "source": [
    "# Reshape y for tensorflow\n",
    "y = np.array(y).reshape(-1, 1)\n",
    "\n",
    "# Define X\n",
    "X = dataset.loc[:, [\"x1\", \"x2\"]].to_numpy()\n",
    "\n",
    "# Convert data to PyTorch tensors\n",
    "X_tensor = torch.Tensor(X)\n",
    "y_tensor = torch.Tensor(y)"
   ]
  },
  {
   "cell_type": "code",
   "execution_count": 26,
   "metadata": {},
   "outputs": [],
   "source": [
    "# Create model\n",
    "model = Classifier()\n",
    "\n",
    "# Define loss function and optimizer\n",
    "criterion = nn.BCELoss()\n",
    "optimizer = optim.Adam(model.parameters(), lr=0.01)"
   ]
  },
  {
   "cell_type": "code",
   "execution_count": 27,
   "metadata": {},
   "outputs": [
    {
     "name": "stdout",
     "output_type": "stream",
     "text": [
      "Epoch [100/1000], Loss: 0.6923\n",
      "Epoch [200/1000], Loss: 0.6923\n",
      "Epoch [300/1000], Loss: 0.6923\n",
      "Epoch [400/1000], Loss: 0.6923\n"
     ]
    },
    {
     "name": "stdout",
     "output_type": "stream",
     "text": [
      "Epoch [500/1000], Loss: 0.6923\n",
      "Epoch [600/1000], Loss: 0.6923\n",
      "Epoch [700/1000], Loss: 0.6923\n",
      "Epoch [800/1000], Loss: 0.6923\n",
      "Epoch [900/1000], Loss: 0.6923\n",
      "Epoch [1000/1000], Loss: 0.6923\n"
     ]
    }
   ],
   "source": [
    "# Train model\n",
    "num_epochs = 1000\n",
    "for epoch in range(num_epochs):\n",
    "    # Make forward pass\n",
    "    outputs = model.forward(X_tensor)\n",
    "    loss = criterion.forward(outputs, y_tensor)\n",
    "\n",
    "    # Make backward pass and optimization\n",
    "    optimizer.zero_grad()\n",
    "    loss.backward()\n",
    "    optimizer.step()\n",
    "\n",
    "    if (epoch + 1) % 100 == 0:\n",
    "        print(\"Epoch [{}/{}], Loss: {:.4f}\".format(epoch + 1, num_epochs, loss.item()))"
   ]
  },
  {
   "cell_type": "markdown",
   "metadata": {},
   "source": [
    "### a- Donner les valeurs numériques des paramètres appris\n"
   ]
  },
  {
   "cell_type": "code",
   "execution_count": 28,
   "metadata": {},
   "outputs": [
    {
     "name": "stdout",
     "output_type": "stream",
     "text": [
      "fc1.weight tensor([[ 0.1291,  0.3490],\n",
      "        [ 0.3567,  0.3863],\n",
      "        [-0.1594,  0.2630],\n",
      "        [-0.4792, -0.5313],\n",
      "        [-0.1988, -0.0230],\n",
      "        [-0.0806, -0.4205],\n",
      "        [ 0.1090, -0.5292],\n",
      "        [ 0.4629,  0.5107],\n",
      "        [ 0.7673, -0.0309]])\n",
      "fc1.bias tensor([-0.5641,  0.6957,  0.2382,  0.1415,  0.4413,  0.1494, -0.0468, -0.3094,\n",
      "        -0.0641])\n",
      "fc2.weight tensor([[ 0.1785, -0.3605,  0.0549,  0.0115,  0.3201,  0.2621,  0.0572,  0.1449,\n",
      "         -0.2836],\n",
      "        [-0.3148,  0.0683,  0.0606, -0.1683, -0.2033, -0.0138,  0.1957,  0.1648,\n",
      "         -0.2586],\n",
      "        [ 0.2845,  0.1383,  0.3857,  0.1961, -0.0531,  0.0501, -0.3044,  0.0108,\n",
      "          0.3464],\n",
      "        [-0.1595, -0.2246,  0.3080, -0.1632, -0.3328,  0.1871,  0.0351, -0.1120,\n",
      "         -0.2360],\n",
      "        [ 0.1575, -0.2382,  0.3635,  0.3112, -0.3307, -0.1672, -0.1500,  0.3248,\n",
      "          0.3970],\n",
      "        [-0.0639, -0.0209, -0.3536, -0.0717,  0.1828, -0.0135,  0.1367,  0.1999,\n",
      "         -0.3077],\n",
      "        [ 0.1358,  0.0011,  0.1504,  0.1689, -0.2358, -0.1115, -0.0893, -0.2749,\n",
      "          0.0787],\n",
      "        [ 0.2313, -0.1674,  0.0794,  0.1812, -0.1715, -0.3302, -0.2951, -0.1616,\n",
      "          0.0082]])\n",
      "fc2.bias tensor([ 0.1851,  0.0944,  0.3998,  0.2034,  0.2091,  0.0408,  0.0984, -0.1550])\n",
      "fc3.weight tensor([[ 1.7035e-01,  1.1354e-01, -1.0430e-01, -1.3771e-01, -1.4048e-01,\n",
      "         -1.0707e-01,  1.1442e-01, -4.7392e-02],\n",
      "        [-2.3849e-01,  1.0537e-01, -2.5063e-02, -1.9078e-01, -8.9034e-02,\n",
      "          1.0240e-01, -2.8117e-01, -1.0345e-01],\n",
      "        [-2.0957e-01,  4.2051e-05,  2.1951e-01,  2.7357e-01, -3.1034e-01,\n",
      "         -3.4475e-01,  2.2342e-01, -1.6542e-01],\n",
      "        [ 2.4528e-01,  8.7800e-02, -3.6456e-01,  1.7953e-01, -1.0508e-01,\n",
      "          1.3602e-01,  2.8745e-01,  2.2996e-01],\n",
      "        [-2.8672e-01, -8.9990e-02, -3.2485e-01,  2.4015e-01, -1.9427e-01,\n",
      "          1.5656e-01,  3.4822e-01,  3.5285e-01],\n",
      "        [ 2.3678e-01,  3.4771e-02, -8.6322e-02,  2.3999e-01,  8.5756e-02,\n",
      "         -2.4257e-01,  2.6002e-01,  2.0592e-02],\n",
      "        [-2.6933e-01, -2.4315e-01, -1.9650e-03,  1.3059e-01, -2.0161e-01,\n",
      "         -3.2275e-01, -1.1326e-01, -2.4969e-01]])\n",
      "fc3.bias tensor([-0.1844, -0.2084,  0.2883,  0.2615, -0.1799, -0.2150, -0.3047])\n",
      "fc4.weight tensor([[-0.0219, -0.0237,  0.2520, -0.3774,  0.0614, -0.2510, -0.1271],\n",
      "        [ 0.1878, -0.3146,  0.1286,  0.1915, -0.2363,  0.3284, -0.0817],\n",
      "        [ 0.1449, -0.1049, -0.0660, -0.3163, -0.1118,  0.0622, -0.1175],\n",
      "        [ 0.0462, -0.0784, -0.0877, -0.1151,  0.1411,  0.3777,  0.1533],\n",
      "        [-0.0063, -0.3956,  0.3285, -0.2830,  0.2575, -0.2030,  0.2944],\n",
      "        [-0.2663,  0.0730,  0.3649, -0.0351, -0.2449,  0.1628,  0.2953]])\n",
      "fc4.bias tensor([-0.0856,  0.2063, -0.3175, -0.0688,  0.2343, -0.1680])\n",
      "fc5.weight tensor([[-0.2614, -0.0487, -0.2903, -0.1422, -0.2573,  0.2085],\n",
      "        [ 0.2234, -0.1122,  0.3133, -0.0971,  0.0514, -0.3995],\n",
      "        [ 0.3057,  0.2007,  0.1351, -0.0195,  0.4189,  0.1117],\n",
      "        [ 0.3143,  0.0131,  0.2762, -0.1645, -0.1470, -0.1846],\n",
      "        [-0.3850, -0.3181, -0.1933,  0.1970, -0.2227, -0.3993]])\n",
      "fc5.bias tensor([ 0.0167, -0.0666,  0.4028, -0.3226, -0.0660])\n",
      "fc6.weight tensor([[ 0.2309,  0.1224, -0.3590,  0.2968, -0.0572]])\n",
      "fc6.bias tensor([0.1147])\n"
     ]
    }
   ],
   "source": [
    "# Display parameters\n",
    "for name, param in model.named_parameters():\n",
    "    print(name, param.data)"
   ]
  },
  {
   "cell_type": "markdown",
   "metadata": {},
   "source": [
    "### b- Représenter graphiquement les données sous la forme d’un nuage de points dans $\\mathbb{R}^2$ ainsi que la fonction définie pour x∈R2 par l’équation $P(Y=1|X=x)=1/2$"
   ]
  },
  {
   "cell_type": "code",
   "execution_count": 29,
   "metadata": {},
   "outputs": [
    {
     "data": {
      "text/plain": [
       "(110, 67)"
      ]
     },
     "execution_count": 29,
     "metadata": {},
     "output_type": "execute_result"
    }
   ],
   "source": [
    "# Prepare meshgrid for displaying decision border\n",
    "x_min, x_max = X[:, 0].min() - 1, X[:, 0].max() + 1\n",
    "y_min, y_max = X[:, 1].min() - 1, X[:, 1].max() + 1\n",
    "xx, yy = np.meshgrid(np.arange(x_min, x_max, 0.1), np.arange(y_min, y_max, 0.1))\n",
    "xx.shape"
   ]
  },
  {
   "cell_type": "code",
   "execution_count": 30,
   "metadata": {},
   "outputs": [
    {
     "data": {
      "text/plain": [
       "torch.Size([7370, 2])"
      ]
     },
     "execution_count": 30,
     "metadata": {},
     "output_type": "execute_result"
    }
   ],
   "source": [
    "# Transform meshgrid into data points\n",
    "datapoints_grid = np.c_[xx.ravel(), yy.ravel()]\n",
    "\n",
    "# Transform datapoints into torch tensor\n",
    "datapoints_grid = torch.Tensor(datapoints_grid)\n",
    "datapoints_grid.shape"
   ]
  },
  {
   "cell_type": "code",
   "execution_count": 31,
   "metadata": {},
   "outputs": [
    {
     "data": {
      "text/plain": [
       "(110, 67)"
      ]
     },
     "execution_count": 31,
     "metadata": {},
     "output_type": "execute_result"
    }
   ],
   "source": [
    "# Predict grid to plot decision border\n",
    "y_pred_grid = model.forward(datapoints_grid).detach().numpy()\n",
    "\n",
    "# Reshape predictions into grid shape\n",
    "y_pred_grid = y_pred_grid.reshape(xx.shape)\n",
    "y_pred_grid.shape"
   ]
  },
  {
   "cell_type": "code",
   "execution_count": 32,
   "metadata": {},
   "outputs": [
    {
     "data": {
      "image/png": "[encoded data removed]",
      "text/plain": [
       "<Figure size 640x480 with 1 Axes>"
      ]
     },
     "metadata": {},
     "output_type": "display_data"
    }
   ],
   "source": [
    "# Plot datapoints and decision border\n",
    "plt.contourf(xx, yy, y_pred_grid, alpha=0.4, cmap=\"copper\")\n",
    "plt.scatter(X[:, 0], X[:, 1], c=y, cmap=\"copper\")\n",
    "plt.xlabel(\"X1\")\n",
    "plt.ylabel(\"X2\")\n",
    "plt.title(\"Nuage de points avec la frontière de décision\")\n",
    "plt.show()"
   ]
  },
  {
   "cell_type": "markdown",
   "metadata": {},
   "source": [
    "## 5. Application\n",
    "\n",
    "Les données des fichiers testA, testB et testC sont respectivement tirées de la même distribution que les données des fichiers trainA, trainB et trainC. Tester les différents modèles appris à partir des données d’apprentissage correspondantes sur ces données de test.\n"
   ]
  },
  {
   "cell_type": "markdown",
   "metadata": {},
   "source": [
    "### a- Calculer pour chaque modèle l’erreur de classification (c’est-à-dire la fraction des données mal classées) sur les données d’apprentissage et calculer-la également sur les données de test."
   ]
  },
  {
   "cell_type": "code",
   "execution_count": 67,
   "metadata": {},
   "outputs": [],
   "source": [
    "class LinearDiscriminantAnalysis:\n",
    "    def __init__(self) -> None:\n",
    "        pass\n",
    "    \n",
    "    def fit(self, X:np.ndarray, y:np.ndarray) -> None:\n",
    "        # Adapt data to MLE calculation function\n",
    "        df = pd.DataFrame({\"x1\": X[:, 0], \"x2\": X[:, 1], \"y\": y})\n",
    "        \n",
    "        # Make calculus\n",
    "        self.pi = calc_pi_mle(df)\n",
    "        self.mu0, self.mu1 = calc_mu_mle(df)\n",
    "        self.sigma = calc_sigma_mle(df, self.mu0, self.mu1)\n",
    "        self.params = (self.pi, self.mu0, self.mu1, self.sigma)\n",
    "        \n",
    "    \n",
    "    def predict(self, X: np.ndarray) -> tuple:\n",
    "        \"\"\"Make prediction for linear discriminant analysis\n",
    "\n",
    "        Args:\n",
    "            X (np.ndarray): Two dimensional dataset \n",
    "\n",
    "        Returns:\n",
    "            tuple: predictions and predicted proba\n",
    "        \"\"\"\n",
    "        # Retrieve parameters\n",
    "        pi, mu0, mu1, Sigma = self.params\n",
    "        Sigma_inv = np.linalg.inv(Sigma)\n",
    "        \n",
    "        # Calculate proba\n",
    "        \n",
    "        # Iterate over row i.e. data points\n",
    "        exponential_part = np.zeros(100)\n",
    "        for i in range(100):\n",
    "            exponential_part[i] = 0.5 * ( \\\n",
    "                (X[i] - mu0) @ Sigma_inv @ (X[i] - mu0).T \\\n",
    "                - (X[i] - mu1) @ Sigma_inv @ (X[i] - mu1).T\n",
    "                )\n",
    "        \n",
    "        denominateur = 1 + ((1-pi) / pi) * np.exp(exponential_part)\n",
    "        \n",
    "        y_pred_proba = 1 / denominateur\n",
    "        \n",
    "        y_pred = [proba > 0.5 for proba in y_pred_proba]\n",
    "        \n",
    "        return y_pred, y_pred_proba\n",
    "\n",
    "    def logistic_regression(X:np.ndarray, params:np.ndarray):\n",
    "        \"\"\"Make prediction for logistic regression with two dimension data\n",
    "\n",
    "        Args:\n",
    "            X (np.ndarray): Dataset + column of ones for bias\n",
    "            params (np.ndarray): Array of parameters (beta0, beta1, beta2)\n",
    "\n",
    "        Returns:\n",
    "            tuple: predictions and predicted proba\n",
    "        \"\"\"\n",
    "        \n",
    "        linear_reg_part = X @ params\n",
    "        y_pred_proba = sigmoid(linear_reg_part)\n",
    "        y_pred = [proba > 0.5 for proba in y_pred_proba]\n",
    "        \n",
    "        return y_pred, y_pred_proba\n",
    "    \n",
    "    def linear_regression(X:np.ndarray, params:np.ndarray):\n",
    "        \"\"\"Make prediction for linear regression with two dimension data\n",
    "\n",
    "        Args:\n",
    "            X (np.ndarray): Dataset + column of ones for bias\n",
    "            params (np.ndarray): Array of parameters (beta0, beta1, beta2)\n",
    "\n",
    "        Returns:\n",
    "            tuple: predictions and predicted proba\n",
    "        \"\"\"\n",
    "        y_pred_proba = X @ params\n",
    "        y_pred = [proba > 0.5 for proba in y_pred_proba]\n",
    "        \n",
    "        return y_pred, y_pred_proba\n"
   ]
  },
  {
   "cell_type": "code",
   "execution_count": 49,
   "metadata": {},
   "outputs": [],
   "source": [
    "X_train, X_test = train[\"A\"].loc[:, [\"x1\", \"x2\"]].to_numpy(), test[\"A\"].loc[:, [\"x1\", \"x2\"]].to_numpy()\n",
    "y_train, y_test = train[\"A\"].loc[:, \"y\"].to_numpy(), test[\"A\"].loc[:, \"y\"].to_numpy()"
   ]
  },
  {
   "cell_type": "code",
   "execution_count": 50,
   "metadata": {},
   "outputs": [],
   "source": [
    "df = pd.DataFrame({\"x1\": X_train[:, 0], \"x2\": X_train[:, 1], \"y\": y_train})\n"
   ]
  },
  {
   "cell_type": "code",
   "execution_count": 66,
   "metadata": {},
   "outputs": [
    {
     "data": {
      "text/plain": [
       "(100, 2)"
      ]
     },
     "execution_count": 66,
     "metadata": {},
     "output_type": "execute_result"
    }
   ],
   "source": [
    "a = (X_train - np.array([1, 3])) # @ sigma_mle_inv  @ (X_train - np.array([1, 3])).T\n",
    "a.shape"
   ]
  },
  {
   "cell_type": "code",
   "execution_count": 83,
   "metadata": {},
   "outputs": [
    {
     "data": {
      "text/plain": [
       "array([8.86244334e-13, 1.13301939e-14, 8.86244334e-13, 1.13301939e-14,\n",
       "       1.13301939e-14, 8.86244334e-13, 1.13301939e-14, 8.86244334e-13,\n",
       "       8.86244334e-13, 1.13301939e-14, 1.13301939e-14, 1.13301939e-14,\n",
       "       8.86244334e-13, 8.86244334e-13, 8.86244334e-13, 1.13301939e-14,\n",
       "       1.13301939e-14, 8.86244334e-13, 8.86244334e-13, 8.86244334e-13,\n",
       "       8.86244334e-13, 8.86244334e-13, 8.86244334e-13, 8.86244334e-13,\n",
       "       8.86244334e-13, 8.86244334e-13, 1.13301939e-14, 8.86244334e-13,\n",
       "       1.13301939e-14, 1.13301939e-14, 1.13301939e-14, 1.13301939e-14,\n",
       "       1.13301939e-14, 1.13301939e-14, 1.13301939e-14, 8.86244334e-13,\n",
       "       8.86244334e-13, 1.13301939e-14, 8.86244334e-13, 1.13301939e-14,\n",
       "       1.13301939e-14, 1.13301939e-14, 8.86244334e-13, 8.86244334e-13,\n",
       "       1.13301939e-14, 8.86244334e-13, 8.86244334e-13, 8.86244334e-13,\n",
       "       8.86244334e-13, 1.13301939e-14, 8.86244334e-13, 8.86244334e-13,\n",
       "       1.13301939e-14, 8.86244334e-13, 8.86244334e-13, 1.13301939e-14,\n",
       "       8.86244334e-13, 8.86244334e-13, 1.13301939e-14, 1.13301939e-14,\n",
       "       8.86244334e-13, 1.13301939e-14, 8.86244334e-13, 1.13301939e-14,\n",
       "       1.13301939e-14, 1.13301939e-14, 1.13301939e-14, 1.13301939e-14,\n",
       "       8.86244334e-13, 8.86244334e-13, 1.13301939e-14, 8.86244334e-13,\n",
       "       8.86244334e-13, 1.13301939e-14, 1.13301939e-14, 8.86244334e-13,\n",
       "       8.86244334e-13, 1.13301939e-14, 8.86244334e-13, 1.13301939e-14,\n",
       "       1.13301939e-14, 1.13301939e-14, 1.13301939e-14, 1.13301939e-14,\n",
       "       1.13301939e-14, 1.13301939e-14, 8.86244334e-13, 1.13301939e-14,\n",
       "       1.13301939e-14, 1.13301939e-14, 1.13301939e-14, 8.86244334e-13,\n",
       "       8.86244334e-13, 1.13301939e-14, 1.13301939e-14, 8.86244334e-13,\n",
       "       8.86244334e-13, 1.13301939e-14, 8.86244334e-13, 1.13301939e-14])"
      ]
     },
     "execution_count": 83,
     "metadata": {},
     "output_type": "execute_result"
    }
   ],
   "source": [
    "model = LinearDiscriminantAnalysis()\n",
    "model.fit(X_train, y_train)\n",
    "y_predict, y_pred_proba = model.predict(y_train)\n",
    "y_pred_proba"
   ]
  },
  {
   "cell_type": "markdown",
   "metadata": {},
   "source": [
    "**Analyse linéaire discriminante**"
   ]
  },
  {
   "cell_type": "code",
   "execution_count": 13,
   "metadata": {},
   "outputs": [],
   "source": [
    "# Iterate over datasets\n",
    "for dataset_index in [\"A\", \"B\", \"C\"]:\n",
    "    # Define train test split\n",
    "    X_train, X_test = train[dataset_index].loc[:, [\"x1\", \"x2\"]], test[dataset_index].loc[:, [\"x1\", \"x2\"]]\n",
    "    y_train, y_test = train[dataset_index].loc[:, \"y\"], test[dataset_index].loc[:, \"y\"]\n",
    "    \n",
    "    # Train each model\n",
    "    "
   ]
  },
  {
   "cell_type": "markdown",
   "metadata": {},
   "source": [
    "### b- Comparer les performances des différentes méthodes sur les trois jeux de données. L’erreur de classification est-elle plus grande, plus petite ou similaire sur les données d’entraînement et de test ? Pourquoi ? Quelles méthodes donnent des résultats très similaires/différents ? Quelles méthodes donnent les meilleurs résultats sur les différents jeux de données ? Donner une interprétation."
   ]
  }
 ],
 "metadata": {
  "kernelspec": {
   "display_name": "Python 3",
   "language": "python",
   "name": "python3"
  },
  "language_info": {
   "codemirror_mode": {
    "name": "ipython",
    "version": 3
   },
   "file_extension": ".py",
   "mimetype": "text/x-python",
   "name": "python",
   "nbconvert_exporter": "python",
   "pygments_lexer": "ipython3",
   "version": "3.10.10"
  }
 },
 "nbformat": 4,
 "nbformat_minor": 2
}
