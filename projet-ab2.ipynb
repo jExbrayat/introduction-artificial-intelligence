{
 "cells": [
  {
   "cell_type": "code",
   "execution_count": 1,
   "id": "eef60157-dae3-4ee0-9832-7c7d20c988f6",
   "metadata": {},
   "outputs": [],
   "source": [
    "import numpy as np\n",
    "import matplotlib.pyplot as plt\n",
    "import pandas as pd\n",
    "import seaborn as sns\n",
    "import torch\n",
    "import torch.nn as nn\n",
    "from scipy.optimize import minimize"
   ]
  },
  {
   "cell_type": "markdown",
   "id": "b692cfe3-fca3-446c-9f62-b70d4ab2f265",
   "metadata": {},
   "source": [
    "# Classification"
   ]
  },
  {
   "cell_type": "markdown",
   "id": "ee3488e2-275b-4f9a-8ae8-e27c6e044533",
   "metadata": {},
   "source": [
    "## Lecture des données"
   ]
  },
  {
   "cell_type": "code",
   "execution_count": 2,
   "id": "004c2a73-ea30-41b5-895b-a797d412fced",
   "metadata": {},
   "outputs": [],
   "source": [
    "def lecture_fichier(nom_fichier):\n",
    "    \"\"\"Lit les fichiers train et test du TP.\"\"\"\n",
    "    donnees = []\n",
    "    \n",
    "    with open(f\"data/{nom_fichier}\") as fichier:\n",
    "        for ligne in fichier:\n",
    "            a, b, c = ligne.split()\n",
    "            a = float(a)\n",
    "            b = float(b)\n",
    "            c = int(c.replace('\"', \"\"))\n",
    "            \n",
    "            donnees.append([a, b, int(c)])\n",
    "    \n",
    "    return np.array(donnees)"
   ]
  },
  {
   "cell_type": "code",
   "execution_count": 3,
   "id": "7a605adc-1418-4f33-ba85-af0e8a095018",
   "metadata": {},
   "outputs": [],
   "source": [
    "trainA = lecture_fichier(\"trainA\")\n",
    "trainB = lecture_fichier(\"trainB\")\n",
    "trainC = lecture_fichier(\"trainC\")\n",
    "\n",
    "testA = lecture_fichier(\"testA\")\n",
    "testB = lecture_fichier(\"testB\")\n",
    "testC = lecture_fichier(\"testC\")"
   ]
  },
  {
   "cell_type": "code",
   "execution_count": 4,
   "id": "b1e1d57d-2df6-4a88-ac47-b16641dbc6a6",
   "metadata": {},
   "outputs": [
    {
     "name": "stdout",
     "output_type": "stream",
     "text": [
      "trainA.shape = (100, 3)\n",
      "trainB.shape = (200, 3)\n",
      "trainC.shape = (300, 3)\n",
      "testA.shape = (100, 3)\n",
      "testB.shape = (200, 3)\n",
      "testC.shape = (300, 3)\n"
     ]
    }
   ],
   "source": [
    "print(f\"{trainA.shape = }\")\n",
    "print(f\"{trainB.shape = }\")\n",
    "print(f\"{trainC.shape = }\")\n",
    "\n",
    "print(f\"{testA.shape = }\")\n",
    "print(f\"{testB.shape = }\")\n",
    "print(f\"{testC.shape = }\")"
   ]
  },
  {
   "cell_type": "code",
   "execution_count": 5,
   "id": "09d4ae58-ec81-4a91-a383-19b3fbef0a54",
   "metadata": {},
   "outputs": [],
   "source": [
    "input_size = trainA.shape[1]"
   ]
  },
  {
   "cell_type": "markdown",
   "id": "bfa76113-ee59-4ee7-a0ff-004c5555d7e8",
   "metadata": {
    "scrolled": true
   },
   "source": [
    "## Analyse Linéaire Discriminante"
   ]
  },
  {
   "cell_type": "code",
   "execution_count": null,
   "id": "d6dc7df3-8e26-4030-9066-df58bdca4089",
   "metadata": {},
   "outputs": [],
   "source": []
  },
  {
   "cell_type": "markdown",
   "id": "87cc0cb4-64c5-44f7-b198-1163a203f6ee",
   "metadata": {},
   "source": [
    "## Régression Logistique"
   ]
  },
  {
   "cell_type": "markdown",
   "id": "6aed1cd8-5c6d-48c6-a679-c16bd2e131c6",
   "metadata": {},
   "source": [
    "### Implémentation"
   ]
  },
  {
   "cell_type": "markdown",
   "id": "6e452f9d-ccbc-4f78-8561-a088f9aa88f8",
   "metadata": {},
   "source": [
    "#### Fonctionnelle"
   ]
  },
  {
   "cell_type": "code",
   "execution_count": 166,
   "id": "9b74d822-02ec-414d-b181-a6fafe413692",
   "metadata": {},
   "outputs": [],
   "source": [
    "def sigmoid(x):\n",
    "    return 1 / (1 + np.exp(-x))"
   ]
  },
  {
   "cell_type": "code",
   "execution_count": 167,
   "id": "34099c96-808c-47d7-93ef-2b3d7a717d89",
   "metadata": {},
   "outputs": [],
   "source": [
    "def log_vraisemblance(beta, x, y):\n",
    "    somme = 0\n",
    "    \n",
    "    for i in range(len(x)):\n",
    "        somme += y[i] * np.log(sigmoid(np.dot(x[i], beta))) + (1 - y[i]) * np.log(1 - sigmoid(np.dot(x[i], beta)))\n",
    "\n",
    "    return -somme"
   ]
  },
  {
   "cell_type": "code",
   "execution_count": 168,
   "id": "f13d50af-1012-4cfd-9571-d28a3b235076",
   "metadata": {},
   "outputs": [
    {
     "name": "stdout",
     "output_type": "stream",
     "text": [
      "Paramètres optimaux (beta) : [  6.76134417 -11.39109915]\n"
     ]
    }
   ],
   "source": [
    "beta_initial = np.zeros(x.shape[1])\n",
    "\n",
    "result = minimize(log_vraisemblance, beta_initial, args=(x, y))#, method='TNC')\n",
    "\n",
    "optimal_beta = result.x\n",
    "print(\"Paramètres optimaux (beta) :\", optimal_beta)"
   ]
  },
  {
   "cell_type": "markdown",
   "id": "53b425e3-1c2d-48ba-bfec-0143798ec230",
   "metadata": {},
   "source": [
    "#### Classe"
   ]
  },
  {
   "cell_type": "code",
   "execution_count": 169,
   "id": "831983d0-059d-4f0c-9570-57649309a817",
   "metadata": {},
   "outputs": [],
   "source": [
    "class RegressionLogistique:\n",
    "    def __init__(self):\n",
    "        self.beta = None\n",
    "\n",
    "    def log_vraisemblance(self, x, y):\n",
    "        somme = 0\n",
    "        \n",
    "        for i in range(len(x)):\n",
    "            somme += y[i] * np.log(sigmoid(np.dot(x[i], self.beta))) + (1 - y[i]) * np.log(1 - sigmoid(np.dot(x[i], self.beta)))\n",
    "    \n",
    "        return -somme\n",
    "\n",
    "    def optimise(self, beta_initial, x, y):\n",
    "        result = minimize(self.log_vraisemblance, beta_initial, args=(x, y))\n",
    "        beta_optimal = result.x\n",
    "        return beta_optimal\n",
    "\n",
    "    def fit(self, x_train, y_train):\n",
    "        beta_initial = np.zeros(x_train.shape[1] + 1)\n",
    "        x_train_avec_biais = np.hstack(\n",
    "            (\n",
    "                np.ones((x_train.shape[0], 1)),\n",
    "                x_train\n",
    "            )\n",
    "        )\n",
    "\n",
    "        beta_optimal = self.optimise(beta_initial, x_train, y_train)\n",
    "        self.beta = beta_optimal\n",
    "\n",
    "        "
   ]
  },
  {
   "cell_type": "code",
   "execution_count": 170,
   "id": "d24c8c02-60eb-4300-9393-60571561e7bd",
   "metadata": {},
   "outputs": [],
   "source": [
    "from functools import partial\n",
    "from scipy.optimize import minimize\n",
    "import numpy as np\n",
    "\n",
    "def sigmoid(x):\n",
    "    return 1 / (1 + np.exp(-x))\n",
    "\n",
    "class RegressionLogistique:\n",
    "    def __init__(self):\n",
    "        self.beta = None\n",
    "\n",
    "    def log_vraisemblance(self, beta, x, y):\n",
    "        somme = 0\n",
    "        \n",
    "        for i in range(len(x)):\n",
    "            somme += y[i] * np.log(sigmoid(np.dot(x[i], beta))) + (1 - y[i]) * np.log(1 - sigmoid(np.dot(x[i], beta)))\n",
    "    \n",
    "        return -somme\n",
    "\n",
    "    def optimise(self, beta_initial, x, y):\n",
    "        log_vraisemblance_partial = partial(self.log_vraisemblance, x=x, y=y)\n",
    "        result = minimize(log_vraisemblance_partial, beta_initial)\n",
    "        beta_optimal = result.x\n",
    "        return beta_optimal\n",
    "\n",
    "    def rajoute_biais(self, x):\n",
    "        return np.hstack(\n",
    "            (\n",
    "                np.ones((x.shape[0], 1)),\n",
    "                x\n",
    "            )\n",
    "        )\n",
    "\n",
    "    def fit(self, x_train, y_train):\n",
    "        beta_initial = np.zeros(x_train.shape[1] + 1)\n",
    "        x_train_avec_biais = self.rajoute_biais(x_train)\n",
    "\n",
    "        beta_optimal = self.optimise(beta_initial, x_train_avec_biais, y_train)\n",
    "        self.beta = beta_optimal\n",
    "\n",
    "    def predict(self, x_test):\n",
    "        x_test_avec_biais = self.rajoute_biais(x_test)\n",
    "        \n",
    "        return sigmoid(np.dot(x_test_avec_biais, self.beta))"
   ]
  },
  {
   "cell_type": "markdown",
   "id": "dbf2bcdd-49ff-4dfb-9dcc-8464036d74aa",
   "metadata": {},
   "source": [
    "### Application au jeu de données"
   ]
  },
  {
   "cell_type": "code",
   "execution_count": 171,
   "id": "189c7eb0-0435-40d0-8a7e-dc96b4d6790e",
   "metadata": {},
   "outputs": [],
   "source": [
    "rl = RegressionLogistique()"
   ]
  },
  {
   "cell_type": "code",
   "execution_count": 172,
   "id": "509cb054-0062-4fdd-b87d-2d0dd48eedbc",
   "metadata": {},
   "outputs": [],
   "source": [
    "x_train = trainA[:, :2]\n",
    "y_train = trainA[:, 2:]\n",
    "\n",
    "x_test = testA[:, :2]\n",
    "y_test = testA[:, 2:]"
   ]
  },
  {
   "cell_type": "code",
   "execution_count": 173,
   "id": "3235d4c1-459d-4945-a647-0bffca0761a3",
   "metadata": {},
   "outputs": [
    {
     "name": "stderr",
     "output_type": "stream",
     "text": [
      "/tmp/ipykernel_3449/2226731614.py:16: RuntimeWarning: divide by zero encountered in log\n",
      "  somme += y[i] * np.log(sigmoid(np.dot(x[i], beta))) + (1 - y[i]) * np.log(1 - sigmoid(np.dot(x[i], beta)))\n",
      "/tmp/ipykernel_3449/2226731614.py:16: RuntimeWarning: invalid value encountered in multiply\n",
      "  somme += y[i] * np.log(sigmoid(np.dot(x[i], beta))) + (1 - y[i]) * np.log(1 - sigmoid(np.dot(x[i], beta)))\n",
      "/tmp/ipykernel_3449/2226731614.py:6: RuntimeWarning: overflow encountered in exp\n",
      "  return 1 / (1 + np.exp(-x))\n",
      "/tmp/ipykernel_3449/2226731614.py:16: RuntimeWarning: divide by zero encountered in log\n",
      "  somme += y[i] * np.log(sigmoid(np.dot(x[i], beta))) + (1 - y[i]) * np.log(1 - sigmoid(np.dot(x[i], beta)))\n",
      "/tmp/ipykernel_3449/2226731614.py:16: RuntimeWarning: invalid value encountered in multiply\n",
      "  somme += y[i] * np.log(sigmoid(np.dot(x[i], beta))) + (1 - y[i]) * np.log(1 - sigmoid(np.dot(x[i], beta)))\n",
      "/tmp/ipykernel_3449/2226731614.py:6: RuntimeWarning: overflow encountered in exp\n",
      "  return 1 / (1 + np.exp(-x))\n",
      "/tmp/ipykernel_3449/2226731614.py:16: RuntimeWarning: divide by zero encountered in log\n",
      "  somme += y[i] * np.log(sigmoid(np.dot(x[i], beta))) + (1 - y[i]) * np.log(1 - sigmoid(np.dot(x[i], beta)))\n",
      "/tmp/ipykernel_3449/2226731614.py:16: RuntimeWarning: invalid value encountered in multiply\n",
      "  somme += y[i] * np.log(sigmoid(np.dot(x[i], beta))) + (1 - y[i]) * np.log(1 - sigmoid(np.dot(x[i], beta)))\n",
      "/tmp/ipykernel_3449/2226731614.py:6: RuntimeWarning: overflow encountered in exp\n",
      "  return 1 / (1 + np.exp(-x))\n"
     ]
    }
   ],
   "source": [
    "rl.fit(x_train, y_train)"
   ]
  },
  {
   "cell_type": "code",
   "execution_count": 174,
   "id": "771081e0-339d-4e05-9e8c-d4045619921f",
   "metadata": {},
   "outputs": [
    {
     "data": {
      "text/plain": [
       "array([ 3074.63004759,   748.48375466, -1288.20106211])"
      ]
     },
     "execution_count": 174,
     "metadata": {},
     "output_type": "execute_result"
    }
   ],
   "source": [
    "rl.beta"
   ]
  },
  {
   "cell_type": "code",
   "execution_count": 175,
   "id": "8866fe31-a190-4681-b973-11bc91afc746",
   "metadata": {},
   "outputs": [
    {
     "name": "stderr",
     "output_type": "stream",
     "text": [
      "/tmp/ipykernel_3449/2226731614.py:6: RuntimeWarning: overflow encountered in exp\n",
      "  return 1 / (1 + np.exp(-x))\n"
     ]
    }
   ],
   "source": [
    "y_pred_train = rl.predict(x_train)"
   ]
  },
  {
   "cell_type": "code",
   "execution_count": 176,
   "id": "bb5d1629-f4ed-42de-a95b-b0faec591ad7",
   "metadata": {},
   "outputs": [
    {
     "name": "stderr",
     "output_type": "stream",
     "text": [
      "/tmp/ipykernel_3449/2226731614.py:6: RuntimeWarning: overflow encountered in exp\n",
      "  return 1 / (1 + np.exp(-x))\n"
     ]
    }
   ],
   "source": [
    "y_pred_test = rl.predict(x_test)"
   ]
  },
  {
   "cell_type": "code",
   "execution_count": 177,
   "id": "bfbd6302-4e7d-45fb-ae4a-103c35c766b4",
   "metadata": {},
   "outputs": [
    {
     "data": {
      "image/png": "[encoded data removed]",
      "text/plain": [
       "<Figure size 640x480 with 1 Axes>"
      ]
     },
     "metadata": {},
     "output_type": "display_data"
    },
    {
     "data": {
      "text/plain": [
       "<matplotlib.collections.PathCollection at 0x7f6956542c50>"
      ]
     },
     "execution_count": 177,
     "metadata": {},
     "output_type": "execute_result"
    },
    {
     "data": {
      "image/png": "[encoded data removed]",
      "text/plain": [
       "<Figure size 640x480 with 1 Axes>"
      ]
     },
     "metadata": {},
     "output_type": "display_data"
    }
   ],
   "source": [
    "plt.scatter(x_train[:, 0], x_train[:, 1], c=y_train)\n",
    "plt.show()\n",
    "plt.scatter(x_train[:, 0], x_train[:, 1], c=y_pred_train)"
   ]
  },
  {
   "cell_type": "code",
   "execution_count": 178,
   "id": "6df764d0-bf53-4034-b790-f5dc15a831d7",
   "metadata": {},
   "outputs": [
    {
     "data": {
      "image/png": "[encoded data removed]",
      "text/plain": [
       "<Figure size 640x480 with 1 Axes>"
      ]
     },
     "metadata": {},
     "output_type": "display_data"
    },
    {
     "data": {
      "text/plain": [
       "<matplotlib.collections.PathCollection at 0x7f69565b7040>"
      ]
     },
     "execution_count": 178,
     "metadata": {},
     "output_type": "execute_result"
    },
    {
     "data": {
      "image/png": "[encoded data removed]",
      "text/plain": [
       "<Figure size 640x480 with 1 Axes>"
      ]
     },
     "metadata": {},
     "output_type": "display_data"
    }
   ],
   "source": [
    "plt.scatter(x_test[:, 0], x_test[:, 1], c=y_test)\n",
    "plt.show()\n",
    "plt.scatter(x_test[:, 0], x_test[:, 1], c=y_pred_test)"
   ]
  },
  {
   "cell_type": "markdown",
   "id": "513ef1fb-216b-4813-94aa-9d5a7992bba2",
   "metadata": {},
   "source": [
    "#### Mini-jeu de test (à enlever)"
   ]
  },
  {
   "cell_type": "code",
   "execution_count": 94,
   "id": "1bdd22a8-6f47-4c81-98e2-f1a14f201ebf",
   "metadata": {},
   "outputs": [],
   "source": [
    "beta = [0, 0, 0]\n",
    "x = [\n",
    "    [2, 3],\n",
    "    [1, 3],\n",
    "    [2, 0],\n",
    "    [2, 0],\n",
    "]\n",
    "y = [0, 0, 1, 1]"
   ]
  },
  {
   "cell_type": "code",
   "execution_count": 8,
   "id": "38c68677-d514-4b64-aa32-f9213bfaf793",
   "metadata": {},
   "outputs": [],
   "source": [
    "# ajout du biais\n",
    "for i in range(len(x)):\n",
    "    x[i] = [1] + x[i]"
   ]
  },
  {
   "cell_type": "code",
   "execution_count": 98,
   "id": "7d861dac-bcaa-4f7a-becd-684e5d5e7bd3",
   "metadata": {},
   "outputs": [],
   "source": [
    "beta = np.array(beta)\n",
    "x = np.array(x)\n",
    "y = np.array(y)"
   ]
  },
  {
   "cell_type": "code",
   "execution_count": 10,
   "id": "e161437c-3fe5-423f-ab07-8e631e9e04e7",
   "metadata": {},
   "outputs": [
    {
     "name": "stdout",
     "output_type": "stream",
     "text": [
      "x.shape = (4, 3)\n",
      "y.shape = (4,)\n"
     ]
    }
   ],
   "source": [
    "print(f\"{x.shape = }\")\n",
    "print(f\"{y.shape = }\")"
   ]
  },
  {
   "cell_type": "markdown",
   "id": "ae7f0753-58e9-458a-8790-4e08b5120469",
   "metadata": {},
   "source": [
    "## Régression linéaire"
   ]
  },
  {
   "cell_type": "code",
   "execution_count": null,
   "id": "53325ce8-bbb1-4939-bb71-ae591a077675",
   "metadata": {},
   "outputs": [],
   "source": []
  },
  {
   "cell_type": "markdown",
   "id": "5993f13e-359a-4e9e-9934-28ac1c9e995d",
   "metadata": {},
   "source": [
    "## Réseau de neurones"
   ]
  },
  {
   "cell_type": "code",
   "execution_count": 13,
   "id": "adf8a6d2-ab92-49f3-8fa8-21ea7cb71410",
   "metadata": {},
   "outputs": [],
   "source": [
    "class Classifieur(nn.Module):\n",
    "    def __init__(self, input_size):\n",
    "        super().__init__()\n",
    "\n",
    "        # couche d'entrée\n",
    "        self.layer1 = nn.Linear(input_size, 9)\n",
    "\n",
    "        # couches cachées\n",
    "        self.layer2 = nn.Linear(9, 8)\n",
    "        self.layer3 = nn.Linear(8, 7)\n",
    "        self.layer4 = nn.Linear(7, 6)\n",
    "        self.layer5 = nn.Linear(6, 5)\n",
    "\n",
    "        # couche de sortie\n",
    "        self.layer6 = nn.Linear(5, 1)\n",
    "\n",
    "        # fonction d'activation    \n",
    "        self.sigmoid = nn.Sigmoid()\n",
    "    \n",
    "    def forward(self, x):\n",
    "        x = self.layer1(x)\n",
    "        x = self.layer2(x)\n",
    "        x = self.layer3(x)\n",
    "        x = self.layer4(x)\n",
    "        x = self.layer5(x)\n",
    "        x = self.layer6(x)\n",
    "        x = self.sigmoid(x)\n",
    "        return x"
   ]
  },
  {
   "cell_type": "code",
   "execution_count": 14,
   "id": "c5a0eb9b-6a48-42d2-a5b3-5890965f6273",
   "metadata": {},
   "outputs": [],
   "source": [
    "input_data = torch.randn(32, input_size)\n",
    "model = Classifieur(input_size=3)"
   ]
  },
  {
   "cell_type": "code",
   "execution_count": 15,
   "id": "47bab467-443c-4f48-a402-b96a6e693248",
   "metadata": {},
   "outputs": [
    {
     "name": "stdout",
     "output_type": "stream",
     "text": [
      "torch.Size([32, 1])\n"
     ]
    }
   ],
   "source": [
    "output = model(input_data)\n",
    "print(output.size())"
   ]
  },
  {
   "cell_type": "markdown",
   "id": "c28b7fb2-3882-41cd-ab66-f65aa7c0c146",
   "metadata": {},
   "source": [
    "## Application"
   ]
  },
  {
   "cell_type": "code",
   "execution_count": null,
   "id": "95dfea5d-e496-453c-bcbb-02e021749409",
   "metadata": {},
   "outputs": [],
   "source": []
  },
  {
   "cell_type": "markdown",
   "id": "6a7f62e1-2390-4f99-bf96-44fc08860a5b",
   "metadata": {},
   "source": [
    "# Modèle de mélange gaussien"
   ]
  },
  {
   "cell_type": "markdown",
   "id": "c0ec0308-290b-4465-8fc6-45dfdd7c0cdf",
   "metadata": {},
   "source": [
    "## Lecture des données"
   ]
  },
  {
   "cell_type": "code",
   "execution_count": 16,
   "id": "f3488c94-38f8-43bb-bf4f-4a9dcf3751e8",
   "metadata": {},
   "outputs": [],
   "source": [
    "decathlon = pd.read_csv(\"data/decathlon.csv\")"
   ]
  },
  {
   "cell_type": "code",
   "execution_count": 17,
   "id": "eae0ea89-7193-440d-a044-151c517b9878",
   "metadata": {},
   "outputs": [
    {
     "data": {
      "text/plain": [
       "(41, 11)"
      ]
     },
     "execution_count": 17,
     "metadata": {},
     "output_type": "execute_result"
    }
   ],
   "source": [
    "decathlon.shape"
   ]
  },
  {
   "cell_type": "code",
   "execution_count": 18,
   "id": "11c0804a-6c0b-4092-8f08-64dcede8a3f3",
   "metadata": {},
   "outputs": [
    {
     "data": {
      "text/html": [
       "<div>\n",
       "<style scoped>\n",
       "    .dataframe tbody tr th:only-of-type {\n",
       "        vertical-align: middle;\n",
       "    }\n",
       "\n",
       "    .dataframe tbody tr th {\n",
       "        vertical-align: top;\n",
       "    }\n",
       "\n",
       "    .dataframe thead th {\n",
       "        text-align: right;\n",
       "    }\n",
       "</style>\n",
       "<table border=\"1\" class=\"dataframe\">\n",
       "  <thead>\n",
       "    <tr style=\"text-align: right;\">\n",
       "      <th></th>\n",
       "      <th>Unnamed: 0</th>\n",
       "      <th>100m</th>\n",
       "      <th>Long.jump</th>\n",
       "      <th>Shot.put</th>\n",
       "      <th>High.jump</th>\n",
       "      <th>400m</th>\n",
       "      <th>110m.hurdle</th>\n",
       "      <th>Discus</th>\n",
       "      <th>Pole.vault</th>\n",
       "      <th>Javeline</th>\n",
       "      <th>1500m</th>\n",
       "    </tr>\n",
       "  </thead>\n",
       "  <tbody>\n",
       "    <tr>\n",
       "      <th>0</th>\n",
       "      <td>SEBRLE</td>\n",
       "      <td>11.04</td>\n",
       "      <td>7.58</td>\n",
       "      <td>14.83</td>\n",
       "      <td>2.07</td>\n",
       "      <td>49.81</td>\n",
       "      <td>14.69</td>\n",
       "      <td>43.75</td>\n",
       "      <td>5.02</td>\n",
       "      <td>63.19</td>\n",
       "      <td>291.7</td>\n",
       "    </tr>\n",
       "    <tr>\n",
       "      <th>1</th>\n",
       "      <td>CLAY</td>\n",
       "      <td>10.76</td>\n",
       "      <td>7.40</td>\n",
       "      <td>14.26</td>\n",
       "      <td>1.86</td>\n",
       "      <td>49.37</td>\n",
       "      <td>14.05</td>\n",
       "      <td>50.72</td>\n",
       "      <td>4.92</td>\n",
       "      <td>60.15</td>\n",
       "      <td>301.5</td>\n",
       "    </tr>\n",
       "    <tr>\n",
       "      <th>2</th>\n",
       "      <td>KARPOV</td>\n",
       "      <td>11.02</td>\n",
       "      <td>7.30</td>\n",
       "      <td>14.77</td>\n",
       "      <td>2.04</td>\n",
       "      <td>48.37</td>\n",
       "      <td>14.09</td>\n",
       "      <td>48.95</td>\n",
       "      <td>4.92</td>\n",
       "      <td>50.31</td>\n",
       "      <td>300.2</td>\n",
       "    </tr>\n",
       "    <tr>\n",
       "      <th>3</th>\n",
       "      <td>BERNARD</td>\n",
       "      <td>11.02</td>\n",
       "      <td>7.23</td>\n",
       "      <td>14.25</td>\n",
       "      <td>1.92</td>\n",
       "      <td>48.93</td>\n",
       "      <td>14.99</td>\n",
       "      <td>40.87</td>\n",
       "      <td>5.32</td>\n",
       "      <td>62.77</td>\n",
       "      <td>280.1</td>\n",
       "    </tr>\n",
       "    <tr>\n",
       "      <th>4</th>\n",
       "      <td>YURKOV</td>\n",
       "      <td>11.34</td>\n",
       "      <td>7.09</td>\n",
       "      <td>15.19</td>\n",
       "      <td>2.10</td>\n",
       "      <td>50.42</td>\n",
       "      <td>15.31</td>\n",
       "      <td>46.26</td>\n",
       "      <td>4.72</td>\n",
       "      <td>63.44</td>\n",
       "      <td>276.4</td>\n",
       "    </tr>\n",
       "  </tbody>\n",
       "</table>\n",
       "</div>"
      ],
      "text/plain": [
       "  Unnamed: 0   100m  Long.jump  Shot.put  High.jump   400m  110m.hurdle  \\\n",
       "0     SEBRLE  11.04       7.58     14.83       2.07  49.81        14.69   \n",
       "1       CLAY  10.76       7.40     14.26       1.86  49.37        14.05   \n",
       "2     KARPOV  11.02       7.30     14.77       2.04  48.37        14.09   \n",
       "3    BERNARD  11.02       7.23     14.25       1.92  48.93        14.99   \n",
       "4     YURKOV  11.34       7.09     15.19       2.10  50.42        15.31   \n",
       "\n",
       "   Discus  Pole.vault  Javeline  1500m  \n",
       "0   43.75        5.02     63.19  291.7  \n",
       "1   50.72        4.92     60.15  301.5  \n",
       "2   48.95        4.92     50.31  300.2  \n",
       "3   40.87        5.32     62.77  280.1  \n",
       "4   46.26        4.72     63.44  276.4  "
      ]
     },
     "execution_count": 18,
     "metadata": {},
     "output_type": "execute_result"
    }
   ],
   "source": [
    "decathlon.head()"
   ]
  },
  {
   "cell_type": "code",
   "execution_count": 19,
   "id": "2b38d552-8e96-433b-80d1-8fcdc122d218",
   "metadata": {},
   "outputs": [],
   "source": [
    "new_columns = list(decathlon.columns)"
   ]
  },
  {
   "cell_type": "code",
   "execution_count": 20,
   "id": "8575c4f0-70a4-4986-a77b-5fa2555546fa",
   "metadata": {},
   "outputs": [],
   "source": [
    "new_columns[0] = \"name\""
   ]
  },
  {
   "cell_type": "code",
   "execution_count": 21,
   "id": "7fe14587-82a5-4d44-aa18-fa027679ceaa",
   "metadata": {},
   "outputs": [],
   "source": [
    "decathlon.columns = new_columns"
   ]
  },
  {
   "cell_type": "code",
   "execution_count": 22,
   "id": "50328895-507b-4f00-bfb1-896e1bb64652",
   "metadata": {},
   "outputs": [
    {
     "data": {
      "text/html": [
       "<div>\n",
       "<style scoped>\n",
       "    .dataframe tbody tr th:only-of-type {\n",
       "        vertical-align: middle;\n",
       "    }\n",
       "\n",
       "    .dataframe tbody tr th {\n",
       "        vertical-align: top;\n",
       "    }\n",
       "\n",
       "    .dataframe thead th {\n",
       "        text-align: right;\n",
       "    }\n",
       "</style>\n",
       "<table border=\"1\" class=\"dataframe\">\n",
       "  <thead>\n",
       "    <tr style=\"text-align: right;\">\n",
       "      <th></th>\n",
       "      <th>name</th>\n",
       "      <th>100m</th>\n",
       "      <th>Long.jump</th>\n",
       "      <th>Shot.put</th>\n",
       "      <th>High.jump</th>\n",
       "      <th>400m</th>\n",
       "      <th>110m.hurdle</th>\n",
       "      <th>Discus</th>\n",
       "      <th>Pole.vault</th>\n",
       "      <th>Javeline</th>\n",
       "      <th>1500m</th>\n",
       "    </tr>\n",
       "  </thead>\n",
       "  <tbody>\n",
       "    <tr>\n",
       "      <th>0</th>\n",
       "      <td>SEBRLE</td>\n",
       "      <td>11.04</td>\n",
       "      <td>7.58</td>\n",
       "      <td>14.83</td>\n",
       "      <td>2.07</td>\n",
       "      <td>49.81</td>\n",
       "      <td>14.69</td>\n",
       "      <td>43.75</td>\n",
       "      <td>5.02</td>\n",
       "      <td>63.19</td>\n",
       "      <td>291.7</td>\n",
       "    </tr>\n",
       "    <tr>\n",
       "      <th>1</th>\n",
       "      <td>CLAY</td>\n",
       "      <td>10.76</td>\n",
       "      <td>7.40</td>\n",
       "      <td>14.26</td>\n",
       "      <td>1.86</td>\n",
       "      <td>49.37</td>\n",
       "      <td>14.05</td>\n",
       "      <td>50.72</td>\n",
       "      <td>4.92</td>\n",
       "      <td>60.15</td>\n",
       "      <td>301.5</td>\n",
       "    </tr>\n",
       "    <tr>\n",
       "      <th>2</th>\n",
       "      <td>KARPOV</td>\n",
       "      <td>11.02</td>\n",
       "      <td>7.30</td>\n",
       "      <td>14.77</td>\n",
       "      <td>2.04</td>\n",
       "      <td>48.37</td>\n",
       "      <td>14.09</td>\n",
       "      <td>48.95</td>\n",
       "      <td>4.92</td>\n",
       "      <td>50.31</td>\n",
       "      <td>300.2</td>\n",
       "    </tr>\n",
       "    <tr>\n",
       "      <th>3</th>\n",
       "      <td>BERNARD</td>\n",
       "      <td>11.02</td>\n",
       "      <td>7.23</td>\n",
       "      <td>14.25</td>\n",
       "      <td>1.92</td>\n",
       "      <td>48.93</td>\n",
       "      <td>14.99</td>\n",
       "      <td>40.87</td>\n",
       "      <td>5.32</td>\n",
       "      <td>62.77</td>\n",
       "      <td>280.1</td>\n",
       "    </tr>\n",
       "    <tr>\n",
       "      <th>4</th>\n",
       "      <td>YURKOV</td>\n",
       "      <td>11.34</td>\n",
       "      <td>7.09</td>\n",
       "      <td>15.19</td>\n",
       "      <td>2.10</td>\n",
       "      <td>50.42</td>\n",
       "      <td>15.31</td>\n",
       "      <td>46.26</td>\n",
       "      <td>4.72</td>\n",
       "      <td>63.44</td>\n",
       "      <td>276.4</td>\n",
       "    </tr>\n",
       "  </tbody>\n",
       "</table>\n",
       "</div>"
      ],
      "text/plain": [
       "      name   100m  Long.jump  Shot.put  High.jump   400m  110m.hurdle  Discus  \\\n",
       "0   SEBRLE  11.04       7.58     14.83       2.07  49.81        14.69   43.75   \n",
       "1     CLAY  10.76       7.40     14.26       1.86  49.37        14.05   50.72   \n",
       "2   KARPOV  11.02       7.30     14.77       2.04  48.37        14.09   48.95   \n",
       "3  BERNARD  11.02       7.23     14.25       1.92  48.93        14.99   40.87   \n",
       "4   YURKOV  11.34       7.09     15.19       2.10  50.42        15.31   46.26   \n",
       "\n",
       "   Pole.vault  Javeline  1500m  \n",
       "0        5.02     63.19  291.7  \n",
       "1        4.92     60.15  301.5  \n",
       "2        4.92     50.31  300.2  \n",
       "3        5.32     62.77  280.1  \n",
       "4        4.72     63.44  276.4  "
      ]
     },
     "execution_count": 22,
     "metadata": {},
     "output_type": "execute_result"
    }
   ],
   "source": [
    "decathlon.head()"
   ]
  },
  {
   "cell_type": "code",
   "execution_count": 23,
   "id": "8e1a15e7-603e-4265-84e4-2414ffc49d33",
   "metadata": {},
   "outputs": [
    {
     "data": {
      "text/plain": [
       "41"
      ]
     },
     "execution_count": 23,
     "metadata": {},
     "output_type": "execute_result"
    }
   ],
   "source": [
    "decathlon[\"name\"].nunique()"
   ]
  },
  {
   "cell_type": "code",
   "execution_count": 24,
   "id": "821f847b-af50-4b9a-9dc0-aad992f9237a",
   "metadata": {},
   "outputs": [],
   "source": [
    "decathlon.drop(columns=[\"name\"], inplace=True)"
   ]
  },
  {
   "cell_type": "code",
   "execution_count": 25,
   "id": "98b22bc0-d9c2-4877-b12a-e1f600b9402a",
   "metadata": {},
   "outputs": [],
   "source": [
    "from sklearn.mixture import GaussianMixture"
   ]
  },
  {
   "cell_type": "code",
   "execution_count": 26,
   "id": "6e58eb54-de99-421f-94f5-591430ed1756",
   "metadata": {},
   "outputs": [],
   "source": [
    "liste_aic = []\n",
    "liste_bic = []\n",
    "\n",
    "n_min = 1\n",
    "n_min = 1\n",
    "n_max = 10\n",
    "\n",
    "for n in range(n_min, n_max + 1):\n",
    "    gmm = GaussianMixture(covariance_type=\"full\", n_components=n, init_params=\"kmeans\", n_init=100)\n",
    "    gmm.fit(decathlon)\n",
    "    liste_aic.append(gmm.aic(decathlon))\n",
    "    liste_bic.append(gmm.bic(decathlon))"
   ]
  },
  {
   "cell_type": "code",
   "execution_count": null,
   "id": "0be8fd9a-5974-4ae5-be16-2ec1ff505916",
   "metadata": {},
   "outputs": [],
   "source": []
  },
  {
   "cell_type": "code",
   "execution_count": 27,
   "id": "b2c02df4-56ae-412a-b805-44e44ba6cd29",
   "metadata": {},
   "outputs": [
    {
     "data": {
      "image/png": "[encoded data removed]",
      "text/plain": [
       "<Figure size 640x480 with 1 Axes>"
      ]
     },
     "metadata": {},
     "output_type": "display_data"
    }
   ],
   "source": [
    "plt.plot(range(n_min, n_max + 1), liste_aic, \"o-\")\n",
    "plt.xticks(range(n_min, n_max + 1))\n",
    "plt.show()"
   ]
  },
  {
   "cell_type": "code",
   "execution_count": 28,
   "id": "5beb160e-33c0-49e9-8bb4-c3dee5b4b8de",
   "metadata": {},
   "outputs": [
    {
     "data": {
      "image/png": "[encoded data removed]",
      "text/plain": [
       "<Figure size 640x480 with 1 Axes>"
      ]
     },
     "metadata": {},
     "output_type": "display_data"
    }
   ],
   "source": [
    "plt.plot(range(n_min, n_max + 1), liste_bic, \"o-\")\n",
    "plt.xticks(range(n_min, n_max + 1))\n",
    "plt.show()"
   ]
  },
  {
   "cell_type": "markdown",
   "id": "a94fc32d-41e2-467f-a98d-c1e9d0799efa",
   "metadata": {},
   "source": [
    "### K = 3 clusters"
   ]
  },
  {
   "cell_type": "code",
   "execution_count": 29,
   "id": "a1aa4fb7-40dd-4e61-a5c9-b46863ad3c0d",
   "metadata": {},
   "outputs": [],
   "source": [
    "gmm = GaussianMixture(covariance_type=\"full\", n_components=3, init_params=\"k-means++\", n_init=1_000)"
   ]
  },
  {
   "cell_type": "code",
   "execution_count": 30,
   "id": "d7473d99-1517-42b5-9c00-43b158e3bba2",
   "metadata": {},
   "outputs": [
    {
     "data": {
      "text/html": [
       "<style>#sk-container-id-1 {color: black;}#sk-container-id-1 pre{padding: 0;}#sk-container-id-1 div.sk-toggleable {background-color: white;}#sk-container-id-1 label.sk-toggleable__label {cursor: pointer;display: block;width: 100%;margin-bottom: 0;padding: 0.3em;box-sizing: border-box;text-align: center;}#sk-container-id-1 label.sk-toggleable__label-arrow:before {content: \"▸\";float: left;margin-right: 0.25em;color: #696969;}#sk-container-id-1 label.sk-toggleable__label-arrow:hover:before {color: black;}#sk-container-id-1 div.sk-estimator:hover label.sk-toggleable__label-arrow:before {color: black;}#sk-container-id-1 div.sk-toggleable__content {max-height: 0;max-width: 0;overflow: hidden;text-align: left;background-color: #f0f8ff;}#sk-container-id-1 div.sk-toggleable__content pre {margin: 0.2em;color: black;border-radius: 0.25em;background-color: #f0f8ff;}#sk-container-id-1 input.sk-toggleable__control:checked~div.sk-toggleable__content {max-height: 200px;max-width: 100%;overflow: auto;}#sk-container-id-1 input.sk-toggleable__control:checked~label.sk-toggleable__label-arrow:before {content: \"▾\";}#sk-container-id-1 div.sk-estimator input.sk-toggleable__control:checked~label.sk-toggleable__label {background-color: #d4ebff;}#sk-container-id-1 div.sk-label input.sk-toggleable__control:checked~label.sk-toggleable__label {background-color: #d4ebff;}#sk-container-id-1 input.sk-hidden--visually {border: 0;clip: rect(1px 1px 1px 1px);clip: rect(1px, 1px, 1px, 1px);height: 1px;margin: -1px;overflow: hidden;padding: 0;position: absolute;width: 1px;}#sk-container-id-1 div.sk-estimator {font-family: monospace;background-color: #f0f8ff;border: 1px dotted black;border-radius: 0.25em;box-sizing: border-box;margin-bottom: 0.5em;}#sk-container-id-1 div.sk-estimator:hover {background-color: #d4ebff;}#sk-container-id-1 div.sk-parallel-item::after {content: \"\";width: 100%;border-bottom: 1px solid gray;flex-grow: 1;}#sk-container-id-1 div.sk-label:hover label.sk-toggleable__label {background-color: #d4ebff;}#sk-container-id-1 div.sk-serial::before {content: \"\";position: absolute;border-left: 1px solid gray;box-sizing: border-box;top: 0;bottom: 0;left: 50%;z-index: 0;}#sk-container-id-1 div.sk-serial {display: flex;flex-direction: column;align-items: center;background-color: white;padding-right: 0.2em;padding-left: 0.2em;position: relative;}#sk-container-id-1 div.sk-item {position: relative;z-index: 1;}#sk-container-id-1 div.sk-parallel {display: flex;align-items: stretch;justify-content: center;background-color: white;position: relative;}#sk-container-id-1 div.sk-item::before, #sk-container-id-1 div.sk-parallel-item::before {content: \"\";position: absolute;border-left: 1px solid gray;box-sizing: border-box;top: 0;bottom: 0;left: 50%;z-index: -1;}#sk-container-id-1 div.sk-parallel-item {display: flex;flex-direction: column;z-index: 1;position: relative;background-color: white;}#sk-container-id-1 div.sk-parallel-item:first-child::after {align-self: flex-end;width: 50%;}#sk-container-id-1 div.sk-parallel-item:last-child::after {align-self: flex-start;width: 50%;}#sk-container-id-1 div.sk-parallel-item:only-child::after {width: 0;}#sk-container-id-1 div.sk-dashed-wrapped {border: 1px dashed gray;margin: 0 0.4em 0.5em 0.4em;box-sizing: border-box;padding-bottom: 0.4em;background-color: white;}#sk-container-id-1 div.sk-label label {font-family: monospace;font-weight: bold;display: inline-block;line-height: 1.2em;}#sk-container-id-1 div.sk-label-container {text-align: center;}#sk-container-id-1 div.sk-container {/* jupyter's `normalize.less` sets `[hidden] { display: none; }` but bootstrap.min.css set `[hidden] { display: none !important; }` so we also need the `!important` here to be able to override the default hidden behavior on the sphinx rendered scikit-learn.org. See: https://github.com/scikit-learn/scikit-learn/issues/21755 */display: inline-block !important;position: relative;}#sk-container-id-1 div.sk-text-repr-fallback {display: none;}</style><div id=\"sk-container-id-1\" class=\"sk-top-container\"><div class=\"sk-text-repr-fallback\"><pre>GaussianMixture(init_params=&#x27;k-means++&#x27;, n_components=3, n_init=1000)</pre><b>In a Jupyter environment, please rerun this cell to show the HTML representation or trust the notebook. <br />On GitHub, the HTML representation is unable to render, please try loading this page with nbviewer.org.</b></div><div class=\"sk-container\" hidden><div class=\"sk-item\"><div class=\"sk-estimator sk-toggleable\"><input class=\"sk-toggleable__control sk-hidden--visually\" id=\"sk-estimator-id-1\" type=\"checkbox\" checked><label for=\"sk-estimator-id-1\" class=\"sk-toggleable__label sk-toggleable__label-arrow\">GaussianMixture</label><div class=\"sk-toggleable__content\"><pre>GaussianMixture(init_params=&#x27;k-means++&#x27;, n_components=3, n_init=1000)</pre></div></div></div></div></div>"
      ],
      "text/plain": [
       "GaussianMixture(init_params='k-means++', n_components=3, n_init=1000)"
      ]
     },
     "execution_count": 30,
     "metadata": {},
     "output_type": "execute_result"
    }
   ],
   "source": [
    "gmm.fit(decathlon)"
   ]
  },
  {
   "cell_type": "code",
   "execution_count": 31,
   "id": "55d1ab3c-b76d-4c84-8fa8-31b66fe5939f",
   "metadata": {},
   "outputs": [
    {
     "data": {
      "text/plain": [
       "array([1, 1, 1, 0, 0, 0, 0, 2, 0, 2, 0, 0, 2, 0, 0, 0, 0, 0, 0, 0, 0, 0,\n",
       "       0, 2, 0, 0, 0, 0, 0, 0, 0, 0, 0, 2, 0, 2, 0, 0, 1, 0, 1])"
      ]
     },
     "execution_count": 31,
     "metadata": {},
     "output_type": "execute_result"
    }
   ],
   "source": [
    "gmm.predict(decathlon)"
   ]
  },
  {
   "cell_type": "code",
   "execution_count": 32,
   "id": "541a52fb-4126-4292-9045-1ef0af243f6b",
   "metadata": {},
   "outputs": [
    {
     "data": {
      "text/plain": [
       "479.96030736887315"
      ]
     },
     "execution_count": 32,
     "metadata": {},
     "output_type": "execute_result"
    }
   ],
   "source": [
    "gmm.aic(decathlon)"
   ]
  },
  {
   "cell_type": "code",
   "execution_count": 33,
   "id": "3efb5535-2e57-4f55-9dca-92d5fc41e8f7",
   "metadata": {},
   "outputs": [
    {
     "data": {
      "text/plain": [
       "817.5340045096218"
      ]
     },
     "execution_count": 33,
     "metadata": {},
     "output_type": "execute_result"
    }
   ],
   "source": [
    "gmm.bic(decathlon)"
   ]
  },
  {
   "cell_type": "code",
   "execution_count": 34,
   "id": "2f692630-2cbc-4449-8ae5-a7632b59fea2",
   "metadata": {},
   "outputs": [],
   "source": [
    "from sklearn.decomposition import PCA"
   ]
  },
  {
   "cell_type": "code",
   "execution_count": 35,
   "id": "5901102a-fa81-4076-88e9-076aaf00bf47",
   "metadata": {},
   "outputs": [],
   "source": [
    "pca = PCA(n_components=2)"
   ]
  },
  {
   "cell_type": "code",
   "execution_count": 36,
   "id": "a37f1def-5553-4138-939a-9a9a5dc44ea7",
   "metadata": {},
   "outputs": [
    {
     "data": {
      "text/html": [
       "<style>#sk-container-id-2 {color: black;}#sk-container-id-2 pre{padding: 0;}#sk-container-id-2 div.sk-toggleable {background-color: white;}#sk-container-id-2 label.sk-toggleable__label {cursor: pointer;display: block;width: 100%;margin-bottom: 0;padding: 0.3em;box-sizing: border-box;text-align: center;}#sk-container-id-2 label.sk-toggleable__label-arrow:before {content: \"▸\";float: left;margin-right: 0.25em;color: #696969;}#sk-container-id-2 label.sk-toggleable__label-arrow:hover:before {color: black;}#sk-container-id-2 div.sk-estimator:hover label.sk-toggleable__label-arrow:before {color: black;}#sk-container-id-2 div.sk-toggleable__content {max-height: 0;max-width: 0;overflow: hidden;text-align: left;background-color: #f0f8ff;}#sk-container-id-2 div.sk-toggleable__content pre {margin: 0.2em;color: black;border-radius: 0.25em;background-color: #f0f8ff;}#sk-container-id-2 input.sk-toggleable__control:checked~div.sk-toggleable__content {max-height: 200px;max-width: 100%;overflow: auto;}#sk-container-id-2 input.sk-toggleable__control:checked~label.sk-toggleable__label-arrow:before {content: \"▾\";}#sk-container-id-2 div.sk-estimator input.sk-toggleable__control:checked~label.sk-toggleable__label {background-color: #d4ebff;}#sk-container-id-2 div.sk-label input.sk-toggleable__control:checked~label.sk-toggleable__label {background-color: #d4ebff;}#sk-container-id-2 input.sk-hidden--visually {border: 0;clip: rect(1px 1px 1px 1px);clip: rect(1px, 1px, 1px, 1px);height: 1px;margin: -1px;overflow: hidden;padding: 0;position: absolute;width: 1px;}#sk-container-id-2 div.sk-estimator {font-family: monospace;background-color: #f0f8ff;border: 1px dotted black;border-radius: 0.25em;box-sizing: border-box;margin-bottom: 0.5em;}#sk-container-id-2 div.sk-estimator:hover {background-color: #d4ebff;}#sk-container-id-2 div.sk-parallel-item::after {content: \"\";width: 100%;border-bottom: 1px solid gray;flex-grow: 1;}#sk-container-id-2 div.sk-label:hover label.sk-toggleable__label {background-color: #d4ebff;}#sk-container-id-2 div.sk-serial::before {content: \"\";position: absolute;border-left: 1px solid gray;box-sizing: border-box;top: 0;bottom: 0;left: 50%;z-index: 0;}#sk-container-id-2 div.sk-serial {display: flex;flex-direction: column;align-items: center;background-color: white;padding-right: 0.2em;padding-left: 0.2em;position: relative;}#sk-container-id-2 div.sk-item {position: relative;z-index: 1;}#sk-container-id-2 div.sk-parallel {display: flex;align-items: stretch;justify-content: center;background-color: white;position: relative;}#sk-container-id-2 div.sk-item::before, #sk-container-id-2 div.sk-parallel-item::before {content: \"\";position: absolute;border-left: 1px solid gray;box-sizing: border-box;top: 0;bottom: 0;left: 50%;z-index: -1;}#sk-container-id-2 div.sk-parallel-item {display: flex;flex-direction: column;z-index: 1;position: relative;background-color: white;}#sk-container-id-2 div.sk-parallel-item:first-child::after {align-self: flex-end;width: 50%;}#sk-container-id-2 div.sk-parallel-item:last-child::after {align-self: flex-start;width: 50%;}#sk-container-id-2 div.sk-parallel-item:only-child::after {width: 0;}#sk-container-id-2 div.sk-dashed-wrapped {border: 1px dashed gray;margin: 0 0.4em 0.5em 0.4em;box-sizing: border-box;padding-bottom: 0.4em;background-color: white;}#sk-container-id-2 div.sk-label label {font-family: monospace;font-weight: bold;display: inline-block;line-height: 1.2em;}#sk-container-id-2 div.sk-label-container {text-align: center;}#sk-container-id-2 div.sk-container {/* jupyter's `normalize.less` sets `[hidden] { display: none; }` but bootstrap.min.css set `[hidden] { display: none !important; }` so we also need the `!important` here to be able to override the default hidden behavior on the sphinx rendered scikit-learn.org. See: https://github.com/scikit-learn/scikit-learn/issues/21755 */display: inline-block !important;position: relative;}#sk-container-id-2 div.sk-text-repr-fallback {display: none;}</style><div id=\"sk-container-id-2\" class=\"sk-top-container\"><div class=\"sk-text-repr-fallback\"><pre>PCA(n_components=2)</pre><b>In a Jupyter environment, please rerun this cell to show the HTML representation or trust the notebook. <br />On GitHub, the HTML representation is unable to render, please try loading this page with nbviewer.org.</b></div><div class=\"sk-container\" hidden><div class=\"sk-item\"><div class=\"sk-estimator sk-toggleable\"><input class=\"sk-toggleable__control sk-hidden--visually\" id=\"sk-estimator-id-2\" type=\"checkbox\" checked><label for=\"sk-estimator-id-2\" class=\"sk-toggleable__label sk-toggleable__label-arrow\">PCA</label><div class=\"sk-toggleable__content\"><pre>PCA(n_components=2)</pre></div></div></div></div></div>"
      ],
      "text/plain": [
       "PCA(n_components=2)"
      ]
     },
     "execution_count": 36,
     "metadata": {},
     "output_type": "execute_result"
    }
   ],
   "source": [
    "pca.fit(decathlon)"
   ]
  },
  {
   "cell_type": "code",
   "execution_count": 37,
   "id": "8631679e-4340-4dfc-ab3e-e33956f2e059",
   "metadata": {},
   "outputs": [
    {
     "data": {
      "text/plain": [
       "array([0.7965959 , 0.13552956])"
      ]
     },
     "execution_count": 37,
     "metadata": {},
     "output_type": "execute_result"
    }
   ],
   "source": [
    "pca.explained_variance_ratio_"
   ]
  },
  {
   "cell_type": "code",
   "execution_count": 38,
   "id": "17b1164a-b79f-4503-852f-fac1b7b44228",
   "metadata": {},
   "outputs": [
    {
     "data": {
      "text/plain": [
       "0.92"
      ]
     },
     "execution_count": 38,
     "metadata": {},
     "output_type": "execute_result"
    }
   ],
   "source": [
    "0.79 + 0.13"
   ]
  },
  {
   "cell_type": "code",
   "execution_count": 39,
   "id": "1e93310c-2ccf-4055-8d3f-02496688fa30",
   "metadata": {},
   "outputs": [
    {
     "data": {
      "text/plain": [
       "<matplotlib.collections.PathCollection at 0x7f69597d6800>"
      ]
     },
     "execution_count": 39,
     "metadata": {},
     "output_type": "execute_result"
    },
    {
     "data": {
      "image/png": "[encoded data removed]",
      "text/plain": [
       "<Figure size 640x480 with 1 Axes>"
      ]
     },
     "metadata": {},
     "output_type": "display_data"
    }
   ],
   "source": [
    "plt.scatter(*pca.transform(decathlon).T, c=gmm.predict(decathlon))"
   ]
  },
  {
   "cell_type": "code",
   "execution_count": 40,
   "id": "16edbfa4-4044-4424-9d2b-fa96af374202",
   "metadata": {},
   "outputs": [
    {
     "data": {
      "text/plain": [
       "array([0.73170732, 0.12195122, 0.14634146])"
      ]
     },
     "execution_count": 40,
     "metadata": {},
     "output_type": "execute_result"
    }
   ],
   "source": [
    "gmm.weights_"
   ]
  },
  {
   "cell_type": "code",
   "execution_count": 41,
   "id": "52c294b5-c94f-4030-a921-56b1d94bcd1d",
   "metadata": {},
   "outputs": [
    {
     "data": {
      "text/plain": [
       "array([[ 10.979     ,   7.29333333,  14.48233333,   1.97733333,\n",
       "         49.27233333,  14.56533333,  43.97533333,   4.73133333,\n",
       "         59.13366667, 273.45333333],\n",
       "       [ 11.008     ,   7.206     ,  14.718     ,   1.97      ,\n",
       "         50.382     ,  14.636     ,  47.63      ,   4.792     ,\n",
       "         57.064     , 301.304     ],\n",
       "       [ 11.085     ,   7.13833333,  14.25      ,   1.98      ,\n",
       "         50.69833333,  14.78333333,  43.32333333,   4.89333333,\n",
       "         55.275     , 288.31666667]])"
      ]
     },
     "execution_count": 41,
     "metadata": {},
     "output_type": "execute_result"
    }
   ],
   "source": [
    "gmm.means_"
   ]
  },
  {
   "cell_type": "markdown",
   "id": "80964326-b4da-45d2-b431-6a00f9014894",
   "metadata": {},
   "source": [
    "- parler des proportions/tailles des clusters\n",
    "- parler des centres des clusters"
   ]
  },
  {
   "cell_type": "code",
   "execution_count": 42,
   "id": "1508c417-e6f6-47c3-be7d-54e06f03025a",
   "metadata": {},
   "outputs": [],
   "source": [
    "mu = pd.DataFrame(gmm.means_)\n",
    "mu.columns = decathlon.columns"
   ]
  },
  {
   "cell_type": "code",
   "execution_count": 43,
   "id": "d334f52e-b1e8-4fc5-9f73-171c158015cb",
   "metadata": {},
   "outputs": [
    {
     "data": {
      "text/html": [
       "<div>\n",
       "<style scoped>\n",
       "    .dataframe tbody tr th:only-of-type {\n",
       "        vertical-align: middle;\n",
       "    }\n",
       "\n",
       "    .dataframe tbody tr th {\n",
       "        vertical-align: top;\n",
       "    }\n",
       "\n",
       "    .dataframe thead th {\n",
       "        text-align: right;\n",
       "    }\n",
       "</style>\n",
       "<table border=\"1\" class=\"dataframe\">\n",
       "  <thead>\n",
       "    <tr style=\"text-align: right;\">\n",
       "      <th></th>\n",
       "      <th>100m</th>\n",
       "      <th>Long.jump</th>\n",
       "      <th>Shot.put</th>\n",
       "      <th>High.jump</th>\n",
       "      <th>400m</th>\n",
       "      <th>110m.hurdle</th>\n",
       "      <th>Discus</th>\n",
       "      <th>Pole.vault</th>\n",
       "      <th>Javeline</th>\n",
       "      <th>1500m</th>\n",
       "    </tr>\n",
       "  </thead>\n",
       "  <tbody>\n",
       "    <tr>\n",
       "      <th>0</th>\n",
       "      <td>10.979</td>\n",
       "      <td>7.293333</td>\n",
       "      <td>14.482333</td>\n",
       "      <td>1.977333</td>\n",
       "      <td>49.272333</td>\n",
       "      <td>14.565333</td>\n",
       "      <td>43.975333</td>\n",
       "      <td>4.731333</td>\n",
       "      <td>59.133667</td>\n",
       "      <td>273.453333</td>\n",
       "    </tr>\n",
       "    <tr>\n",
       "      <th>1</th>\n",
       "      <td>11.008</td>\n",
       "      <td>7.206000</td>\n",
       "      <td>14.718000</td>\n",
       "      <td>1.970000</td>\n",
       "      <td>50.382000</td>\n",
       "      <td>14.636000</td>\n",
       "      <td>47.630000</td>\n",
       "      <td>4.792000</td>\n",
       "      <td>57.064000</td>\n",
       "      <td>301.304000</td>\n",
       "    </tr>\n",
       "    <tr>\n",
       "      <th>2</th>\n",
       "      <td>11.085</td>\n",
       "      <td>7.138333</td>\n",
       "      <td>14.250000</td>\n",
       "      <td>1.980000</td>\n",
       "      <td>50.698333</td>\n",
       "      <td>14.783333</td>\n",
       "      <td>43.323333</td>\n",
       "      <td>4.893333</td>\n",
       "      <td>55.275000</td>\n",
       "      <td>288.316667</td>\n",
       "    </tr>\n",
       "  </tbody>\n",
       "</table>\n",
       "</div>"
      ],
      "text/plain": [
       "     100m  Long.jump   Shot.put  High.jump       400m  110m.hurdle     Discus  \\\n",
       "0  10.979   7.293333  14.482333   1.977333  49.272333    14.565333  43.975333   \n",
       "1  11.008   7.206000  14.718000   1.970000  50.382000    14.636000  47.630000   \n",
       "2  11.085   7.138333  14.250000   1.980000  50.698333    14.783333  43.323333   \n",
       "\n",
       "   Pole.vault   Javeline       1500m  \n",
       "0    4.731333  59.133667  273.453333  \n",
       "1    4.792000  57.064000  301.304000  \n",
       "2    4.893333  55.275000  288.316667  "
      ]
     },
     "execution_count": 43,
     "metadata": {},
     "output_type": "execute_result"
    }
   ],
   "source": [
    "mu"
   ]
  },
  {
   "cell_type": "markdown",
   "id": "3b86b192-5e75-43fc-9af1-54d26cac3f55",
   "metadata": {},
   "source": [
    "Clusters avec les plus forts :\n",
    "- 100m (min) 1\n",
    "- saut longueur (min) 0\n",
    "- lancer de poids max\n",
    "- saut en hauteur max\n",
    "- 400m min\n",
    "- 110m haies min\n",
    "- disque max\n",
    "- saut perche max\n",
    "- javelot max\n",
    "- 1500m min"
   ]
  },
  {
   "cell_type": "code",
   "execution_count": 44,
   "id": "53f5624e-0146-4a4e-808e-9fc3841fba35",
   "metadata": {},
   "outputs": [
    {
     "data": {
      "text/plain": [
       "<matplotlib.colorbar.Colorbar at 0x7f695964fc10>"
      ]
     },
     "execution_count": 44,
     "metadata": {},
     "output_type": "execute_result"
    },
    {
     "data": {
      "image/png": "[encoded data removed]",
      "text/plain": [
       "<Figure size 640x480 with 2 Axes>"
      ]
     },
     "metadata": {},
     "output_type": "display_data"
    }
   ],
   "source": [
    "plt.scatter(*pca.transform(decathlon).T, c=gmm.predict(decathlon))\n",
    "plt.scatter(*pca.transform(mu).T, marker=\"x\", color=\"black\")\n",
    "plt.colorbar()"
   ]
  },
  {
   "cell_type": "code",
   "execution_count": null,
   "id": "0ea88716-0dfd-4a94-9235-ed4c77f9d013",
   "metadata": {},
   "outputs": [],
   "source": []
  }
 ],
 "metadata": {
  "kernelspec": {
   "display_name": "Python 3 (ipykernel)",
   "language": "python",
   "name": "python3"
  },
  "language_info": {
   "codemirror_mode": {
    "name": "ipython",
    "version": 3
   },
   "file_extension": ".py",
   "mimetype": "text/x-python",
   "name": "python",
   "nbconvert_exporter": "python",
   "pygments_lexer": "ipython3",
   "version": "3.10.13"
  }
 },
 "nbformat": 4,
 "nbformat_minor": 5
}
